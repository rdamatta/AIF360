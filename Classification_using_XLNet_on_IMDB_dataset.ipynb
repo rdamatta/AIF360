{
  "nbformat": 4,
  "nbformat_minor": 0,
  "metadata": {
    "accelerator": "GPU",
    "colab": {
      "name": "Copy of v1.0x of Classification using XLNet on IMDB dataset.ipynb",
      "provenance": [],
      "collapsed_sections": []
    },
    "kernelspec": {
      "display_name": "Python 3",
      "name": "python3"
    },
    "widgets": {
      "application/vnd.jupyter.widget-state+json": {
        "37af494f831e46d183709bc76c229d36": {
          "model_module": "@jupyter-widgets/controls",
          "model_name": "HBoxModel",
          "state": {
            "_view_name": "HBoxView",
            "_dom_classes": [],
            "_model_name": "HBoxModel",
            "_view_module": "@jupyter-widgets/controls",
            "_model_module_version": "1.5.0",
            "_view_count": null,
            "_view_module_version": "1.5.0",
            "box_style": "",
            "layout": "IPY_MODEL_82eb219ddbb242898d5cd6232ffc3f35",
            "_model_module": "@jupyter-widgets/controls",
            "children": [
              "IPY_MODEL_aabc8a747fe843c49588c4f675169c6c",
              "IPY_MODEL_ac54dac7e1a340688ebd36e03688d06e"
            ]
          }
        },
        "82eb219ddbb242898d5cd6232ffc3f35": {
          "model_module": "@jupyter-widgets/base",
          "model_name": "LayoutModel",
          "state": {
            "_view_name": "LayoutView",
            "grid_template_rows": null,
            "right": null,
            "justify_content": null,
            "_view_module": "@jupyter-widgets/base",
            "overflow": null,
            "_model_module_version": "1.2.0",
            "_view_count": null,
            "flex_flow": null,
            "width": null,
            "min_width": null,
            "border": null,
            "align_items": null,
            "bottom": null,
            "_model_module": "@jupyter-widgets/base",
            "top": null,
            "grid_column": null,
            "overflow_y": null,
            "overflow_x": null,
            "grid_auto_flow": null,
            "grid_area": null,
            "grid_template_columns": null,
            "flex": null,
            "_model_name": "LayoutModel",
            "justify_items": null,
            "grid_row": null,
            "max_height": null,
            "align_content": null,
            "visibility": null,
            "align_self": null,
            "height": null,
            "min_height": null,
            "padding": null,
            "grid_auto_rows": null,
            "grid_gap": null,
            "max_width": null,
            "order": null,
            "_view_module_version": "1.2.0",
            "grid_template_areas": null,
            "object_position": null,
            "object_fit": null,
            "grid_auto_columns": null,
            "margin": null,
            "display": null,
            "left": null
          }
        },
        "aabc8a747fe843c49588c4f675169c6c": {
          "model_module": "@jupyter-widgets/controls",
          "model_name": "FloatProgressModel",
          "state": {
            "_view_name": "ProgressView",
            "style": "IPY_MODEL_16275139dbe54ed3869373d15ba5423d",
            "_dom_classes": [],
            "description": "Downloading: 100%",
            "_model_name": "FloatProgressModel",
            "bar_style": "success",
            "max": 760,
            "_view_module": "@jupyter-widgets/controls",
            "_model_module_version": "1.5.0",
            "value": 760,
            "_view_count": null,
            "_view_module_version": "1.5.0",
            "orientation": "horizontal",
            "min": 0,
            "description_tooltip": null,
            "_model_module": "@jupyter-widgets/controls",
            "layout": "IPY_MODEL_5b13cd8fc69d40c190e9fac2882d11cb"
          }
        },
        "ac54dac7e1a340688ebd36e03688d06e": {
          "model_module": "@jupyter-widgets/controls",
          "model_name": "HTMLModel",
          "state": {
            "_view_name": "HTMLView",
            "style": "IPY_MODEL_a2e4f16d7ecf4741b8a6081d5441bbe1",
            "_dom_classes": [],
            "description": "",
            "_model_name": "HTMLModel",
            "placeholder": "​",
            "_view_module": "@jupyter-widgets/controls",
            "_model_module_version": "1.5.0",
            "value": " 760/760 [00:00&lt;00:00, 11.3kB/s]",
            "_view_count": null,
            "_view_module_version": "1.5.0",
            "description_tooltip": null,
            "_model_module": "@jupyter-widgets/controls",
            "layout": "IPY_MODEL_ec1fccdc13994bb68fd5aa18e513afd9"
          }
        },
        "16275139dbe54ed3869373d15ba5423d": {
          "model_module": "@jupyter-widgets/controls",
          "model_name": "ProgressStyleModel",
          "state": {
            "_view_name": "StyleView",
            "_model_name": "ProgressStyleModel",
            "description_width": "initial",
            "_view_module": "@jupyter-widgets/base",
            "_model_module_version": "1.5.0",
            "_view_count": null,
            "_view_module_version": "1.2.0",
            "bar_color": null,
            "_model_module": "@jupyter-widgets/controls"
          }
        },
        "5b13cd8fc69d40c190e9fac2882d11cb": {
          "model_module": "@jupyter-widgets/base",
          "model_name": "LayoutModel",
          "state": {
            "_view_name": "LayoutView",
            "grid_template_rows": null,
            "right": null,
            "justify_content": null,
            "_view_module": "@jupyter-widgets/base",
            "overflow": null,
            "_model_module_version": "1.2.0",
            "_view_count": null,
            "flex_flow": null,
            "width": null,
            "min_width": null,
            "border": null,
            "align_items": null,
            "bottom": null,
            "_model_module": "@jupyter-widgets/base",
            "top": null,
            "grid_column": null,
            "overflow_y": null,
            "overflow_x": null,
            "grid_auto_flow": null,
            "grid_area": null,
            "grid_template_columns": null,
            "flex": null,
            "_model_name": "LayoutModel",
            "justify_items": null,
            "grid_row": null,
            "max_height": null,
            "align_content": null,
            "visibility": null,
            "align_self": null,
            "height": null,
            "min_height": null,
            "padding": null,
            "grid_auto_rows": null,
            "grid_gap": null,
            "max_width": null,
            "order": null,
            "_view_module_version": "1.2.0",
            "grid_template_areas": null,
            "object_position": null,
            "object_fit": null,
            "grid_auto_columns": null,
            "margin": null,
            "display": null,
            "left": null
          }
        },
        "a2e4f16d7ecf4741b8a6081d5441bbe1": {
          "model_module": "@jupyter-widgets/controls",
          "model_name": "DescriptionStyleModel",
          "state": {
            "_view_name": "StyleView",
            "_model_name": "DescriptionStyleModel",
            "description_width": "",
            "_view_module": "@jupyter-widgets/base",
            "_model_module_version": "1.5.0",
            "_view_count": null,
            "_view_module_version": "1.2.0",
            "_model_module": "@jupyter-widgets/controls"
          }
        },
        "ec1fccdc13994bb68fd5aa18e513afd9": {
          "model_module": "@jupyter-widgets/base",
          "model_name": "LayoutModel",
          "state": {
            "_view_name": "LayoutView",
            "grid_template_rows": null,
            "right": null,
            "justify_content": null,
            "_view_module": "@jupyter-widgets/base",
            "overflow": null,
            "_model_module_version": "1.2.0",
            "_view_count": null,
            "flex_flow": null,
            "width": null,
            "min_width": null,
            "border": null,
            "align_items": null,
            "bottom": null,
            "_model_module": "@jupyter-widgets/base",
            "top": null,
            "grid_column": null,
            "overflow_y": null,
            "overflow_x": null,
            "grid_auto_flow": null,
            "grid_area": null,
            "grid_template_columns": null,
            "flex": null,
            "_model_name": "LayoutModel",
            "justify_items": null,
            "grid_row": null,
            "max_height": null,
            "align_content": null,
            "visibility": null,
            "align_self": null,
            "height": null,
            "min_height": null,
            "padding": null,
            "grid_auto_rows": null,
            "grid_gap": null,
            "max_width": null,
            "order": null,
            "_view_module_version": "1.2.0",
            "grid_template_areas": null,
            "object_position": null,
            "object_fit": null,
            "grid_auto_columns": null,
            "margin": null,
            "display": null,
            "left": null
          }
        },
        "c6375431175f4d50a53a520b6a0d8cc2": {
          "model_module": "@jupyter-widgets/controls",
          "model_name": "HBoxModel",
          "state": {
            "_view_name": "HBoxView",
            "_dom_classes": [],
            "_model_name": "HBoxModel",
            "_view_module": "@jupyter-widgets/controls",
            "_model_module_version": "1.5.0",
            "_view_count": null,
            "_view_module_version": "1.5.0",
            "box_style": "",
            "layout": "IPY_MODEL_d7cf5a5fdb084e2a90ccb67ffcb377c6",
            "_model_module": "@jupyter-widgets/controls",
            "children": [
              "IPY_MODEL_5d3bbd1096b1426eaeb726be6481025e",
              "IPY_MODEL_43bd7fabba0443599fd489ce9963bf58"
            ]
          }
        },
        "d7cf5a5fdb084e2a90ccb67ffcb377c6": {
          "model_module": "@jupyter-widgets/base",
          "model_name": "LayoutModel",
          "state": {
            "_view_name": "LayoutView",
            "grid_template_rows": null,
            "right": null,
            "justify_content": null,
            "_view_module": "@jupyter-widgets/base",
            "overflow": null,
            "_model_module_version": "1.2.0",
            "_view_count": null,
            "flex_flow": null,
            "width": null,
            "min_width": null,
            "border": null,
            "align_items": null,
            "bottom": null,
            "_model_module": "@jupyter-widgets/base",
            "top": null,
            "grid_column": null,
            "overflow_y": null,
            "overflow_x": null,
            "grid_auto_flow": null,
            "grid_area": null,
            "grid_template_columns": null,
            "flex": null,
            "_model_name": "LayoutModel",
            "justify_items": null,
            "grid_row": null,
            "max_height": null,
            "align_content": null,
            "visibility": null,
            "align_self": null,
            "height": null,
            "min_height": null,
            "padding": null,
            "grid_auto_rows": null,
            "grid_gap": null,
            "max_width": null,
            "order": null,
            "_view_module_version": "1.2.0",
            "grid_template_areas": null,
            "object_position": null,
            "object_fit": null,
            "grid_auto_columns": null,
            "margin": null,
            "display": null,
            "left": null
          }
        },
        "5d3bbd1096b1426eaeb726be6481025e": {
          "model_module": "@jupyter-widgets/controls",
          "model_name": "FloatProgressModel",
          "state": {
            "_view_name": "ProgressView",
            "style": "IPY_MODEL_fd661fa1b0104a7eb8fbc64f7af69a29",
            "_dom_classes": [],
            "description": "Downloading: 100%",
            "_model_name": "FloatProgressModel",
            "bar_style": "success",
            "max": 798011,
            "_view_module": "@jupyter-widgets/controls",
            "_model_module_version": "1.5.0",
            "value": 798011,
            "_view_count": null,
            "_view_module_version": "1.5.0",
            "orientation": "horizontal",
            "min": 0,
            "description_tooltip": null,
            "_model_module": "@jupyter-widgets/controls",
            "layout": "IPY_MODEL_f333e604f8f340ed8401f022c3cfab0d"
          }
        },
        "43bd7fabba0443599fd489ce9963bf58": {
          "model_module": "@jupyter-widgets/controls",
          "model_name": "HTMLModel",
          "state": {
            "_view_name": "HTMLView",
            "style": "IPY_MODEL_c50465dd0d204c9cb484b498b990d659",
            "_dom_classes": [],
            "description": "",
            "_model_name": "HTMLModel",
            "placeholder": "​",
            "_view_module": "@jupyter-widgets/controls",
            "_model_module_version": "1.5.0",
            "value": " 798k/798k [00:38&lt;00:00, 20.7kB/s]",
            "_view_count": null,
            "_view_module_version": "1.5.0",
            "description_tooltip": null,
            "_model_module": "@jupyter-widgets/controls",
            "layout": "IPY_MODEL_dd8947fe624148b4852b342bccfd520c"
          }
        },
        "fd661fa1b0104a7eb8fbc64f7af69a29": {
          "model_module": "@jupyter-widgets/controls",
          "model_name": "ProgressStyleModel",
          "state": {
            "_view_name": "StyleView",
            "_model_name": "ProgressStyleModel",
            "description_width": "initial",
            "_view_module": "@jupyter-widgets/base",
            "_model_module_version": "1.5.0",
            "_view_count": null,
            "_view_module_version": "1.2.0",
            "bar_color": null,
            "_model_module": "@jupyter-widgets/controls"
          }
        },
        "f333e604f8f340ed8401f022c3cfab0d": {
          "model_module": "@jupyter-widgets/base",
          "model_name": "LayoutModel",
          "state": {
            "_view_name": "LayoutView",
            "grid_template_rows": null,
            "right": null,
            "justify_content": null,
            "_view_module": "@jupyter-widgets/base",
            "overflow": null,
            "_model_module_version": "1.2.0",
            "_view_count": null,
            "flex_flow": null,
            "width": null,
            "min_width": null,
            "border": null,
            "align_items": null,
            "bottom": null,
            "_model_module": "@jupyter-widgets/base",
            "top": null,
            "grid_column": null,
            "overflow_y": null,
            "overflow_x": null,
            "grid_auto_flow": null,
            "grid_area": null,
            "grid_template_columns": null,
            "flex": null,
            "_model_name": "LayoutModel",
            "justify_items": null,
            "grid_row": null,
            "max_height": null,
            "align_content": null,
            "visibility": null,
            "align_self": null,
            "height": null,
            "min_height": null,
            "padding": null,
            "grid_auto_rows": null,
            "grid_gap": null,
            "max_width": null,
            "order": null,
            "_view_module_version": "1.2.0",
            "grid_template_areas": null,
            "object_position": null,
            "object_fit": null,
            "grid_auto_columns": null,
            "margin": null,
            "display": null,
            "left": null
          }
        },
        "c50465dd0d204c9cb484b498b990d659": {
          "model_module": "@jupyter-widgets/controls",
          "model_name": "DescriptionStyleModel",
          "state": {
            "_view_name": "StyleView",
            "_model_name": "DescriptionStyleModel",
            "description_width": "",
            "_view_module": "@jupyter-widgets/base",
            "_model_module_version": "1.5.0",
            "_view_count": null,
            "_view_module_version": "1.2.0",
            "_model_module": "@jupyter-widgets/controls"
          }
        },
        "dd8947fe624148b4852b342bccfd520c": {
          "model_module": "@jupyter-widgets/base",
          "model_name": "LayoutModel",
          "state": {
            "_view_name": "LayoutView",
            "grid_template_rows": null,
            "right": null,
            "justify_content": null,
            "_view_module": "@jupyter-widgets/base",
            "overflow": null,
            "_model_module_version": "1.2.0",
            "_view_count": null,
            "flex_flow": null,
            "width": null,
            "min_width": null,
            "border": null,
            "align_items": null,
            "bottom": null,
            "_model_module": "@jupyter-widgets/base",
            "top": null,
            "grid_column": null,
            "overflow_y": null,
            "overflow_x": null,
            "grid_auto_flow": null,
            "grid_area": null,
            "grid_template_columns": null,
            "flex": null,
            "_model_name": "LayoutModel",
            "justify_items": null,
            "grid_row": null,
            "max_height": null,
            "align_content": null,
            "visibility": null,
            "align_self": null,
            "height": null,
            "min_height": null,
            "padding": null,
            "grid_auto_rows": null,
            "grid_gap": null,
            "max_width": null,
            "order": null,
            "_view_module_version": "1.2.0",
            "grid_template_areas": null,
            "object_position": null,
            "object_fit": null,
            "grid_auto_columns": null,
            "margin": null,
            "display": null,
            "left": null
          }
        },
        "684096d42d854ad69c4028f1e7488583": {
          "model_module": "@jupyter-widgets/controls",
          "model_name": "HBoxModel",
          "state": {
            "_view_name": "HBoxView",
            "_dom_classes": [],
            "_model_name": "HBoxModel",
            "_view_module": "@jupyter-widgets/controls",
            "_model_module_version": "1.5.0",
            "_view_count": null,
            "_view_module_version": "1.5.0",
            "box_style": "",
            "layout": "IPY_MODEL_e6e5334456ec441b8d166635aaa0c2d2",
            "_model_module": "@jupyter-widgets/controls",
            "children": [
              "IPY_MODEL_a1dab70309fc460ea7aaab2493e0435c",
              "IPY_MODEL_17b627e212354f9b99cdf546a5e02143"
            ]
          }
        },
        "e6e5334456ec441b8d166635aaa0c2d2": {
          "model_module": "@jupyter-widgets/base",
          "model_name": "LayoutModel",
          "state": {
            "_view_name": "LayoutView",
            "grid_template_rows": null,
            "right": null,
            "justify_content": null,
            "_view_module": "@jupyter-widgets/base",
            "overflow": null,
            "_model_module_version": "1.2.0",
            "_view_count": null,
            "flex_flow": null,
            "width": null,
            "min_width": null,
            "border": null,
            "align_items": null,
            "bottom": null,
            "_model_module": "@jupyter-widgets/base",
            "top": null,
            "grid_column": null,
            "overflow_y": null,
            "overflow_x": null,
            "grid_auto_flow": null,
            "grid_area": null,
            "grid_template_columns": null,
            "flex": null,
            "_model_name": "LayoutModel",
            "justify_items": null,
            "grid_row": null,
            "max_height": null,
            "align_content": null,
            "visibility": null,
            "align_self": null,
            "height": null,
            "min_height": null,
            "padding": null,
            "grid_auto_rows": null,
            "grid_gap": null,
            "max_width": null,
            "order": null,
            "_view_module_version": "1.2.0",
            "grid_template_areas": null,
            "object_position": null,
            "object_fit": null,
            "grid_auto_columns": null,
            "margin": null,
            "display": null,
            "left": null
          }
        },
        "a1dab70309fc460ea7aaab2493e0435c": {
          "model_module": "@jupyter-widgets/controls",
          "model_name": "FloatProgressModel",
          "state": {
            "_view_name": "ProgressView",
            "style": "IPY_MODEL_cd74859b78e4464d8e9faef73b51ba42",
            "_dom_classes": [],
            "description": "Downloading: 100%",
            "_model_name": "FloatProgressModel",
            "bar_style": "success",
            "max": 565485600,
            "_view_module": "@jupyter-widgets/controls",
            "_model_module_version": "1.5.0",
            "value": 565485600,
            "_view_count": null,
            "_view_module_version": "1.5.0",
            "orientation": "horizontal",
            "min": 0,
            "description_tooltip": null,
            "_model_module": "@jupyter-widgets/controls",
            "layout": "IPY_MODEL_619a267cf23343c5bdba31f9683b549a"
          }
        },
        "17b627e212354f9b99cdf546a5e02143": {
          "model_module": "@jupyter-widgets/controls",
          "model_name": "HTMLModel",
          "state": {
            "_view_name": "HTMLView",
            "style": "IPY_MODEL_a26ba2514fa2495792dde7fb986b0070",
            "_dom_classes": [],
            "description": "",
            "_model_name": "HTMLModel",
            "placeholder": "​",
            "_view_module": "@jupyter-widgets/controls",
            "_model_module_version": "1.5.0",
            "value": " 565M/565M [00:19&lt;00:00, 29.0MB/s]",
            "_view_count": null,
            "_view_module_version": "1.5.0",
            "description_tooltip": null,
            "_model_module": "@jupyter-widgets/controls",
            "layout": "IPY_MODEL_90591cb95de143e1816346e362a3263d"
          }
        },
        "cd74859b78e4464d8e9faef73b51ba42": {
          "model_module": "@jupyter-widgets/controls",
          "model_name": "ProgressStyleModel",
          "state": {
            "_view_name": "StyleView",
            "_model_name": "ProgressStyleModel",
            "description_width": "initial",
            "_view_module": "@jupyter-widgets/base",
            "_model_module_version": "1.5.0",
            "_view_count": null,
            "_view_module_version": "1.2.0",
            "bar_color": null,
            "_model_module": "@jupyter-widgets/controls"
          }
        },
        "619a267cf23343c5bdba31f9683b549a": {
          "model_module": "@jupyter-widgets/base",
          "model_name": "LayoutModel",
          "state": {
            "_view_name": "LayoutView",
            "grid_template_rows": null,
            "right": null,
            "justify_content": null,
            "_view_module": "@jupyter-widgets/base",
            "overflow": null,
            "_model_module_version": "1.2.0",
            "_view_count": null,
            "flex_flow": null,
            "width": null,
            "min_width": null,
            "border": null,
            "align_items": null,
            "bottom": null,
            "_model_module": "@jupyter-widgets/base",
            "top": null,
            "grid_column": null,
            "overflow_y": null,
            "overflow_x": null,
            "grid_auto_flow": null,
            "grid_area": null,
            "grid_template_columns": null,
            "flex": null,
            "_model_name": "LayoutModel",
            "justify_items": null,
            "grid_row": null,
            "max_height": null,
            "align_content": null,
            "visibility": null,
            "align_self": null,
            "height": null,
            "min_height": null,
            "padding": null,
            "grid_auto_rows": null,
            "grid_gap": null,
            "max_width": null,
            "order": null,
            "_view_module_version": "1.2.0",
            "grid_template_areas": null,
            "object_position": null,
            "object_fit": null,
            "grid_auto_columns": null,
            "margin": null,
            "display": null,
            "left": null
          }
        },
        "a26ba2514fa2495792dde7fb986b0070": {
          "model_module": "@jupyter-widgets/controls",
          "model_name": "DescriptionStyleModel",
          "state": {
            "_view_name": "StyleView",
            "_model_name": "DescriptionStyleModel",
            "description_width": "",
            "_view_module": "@jupyter-widgets/base",
            "_model_module_version": "1.5.0",
            "_view_count": null,
            "_view_module_version": "1.2.0",
            "_model_module": "@jupyter-widgets/controls"
          }
        },
        "90591cb95de143e1816346e362a3263d": {
          "model_module": "@jupyter-widgets/base",
          "model_name": "LayoutModel",
          "state": {
            "_view_name": "LayoutView",
            "grid_template_rows": null,
            "right": null,
            "justify_content": null,
            "_view_module": "@jupyter-widgets/base",
            "overflow": null,
            "_model_module_version": "1.2.0",
            "_view_count": null,
            "flex_flow": null,
            "width": null,
            "min_width": null,
            "border": null,
            "align_items": null,
            "bottom": null,
            "_model_module": "@jupyter-widgets/base",
            "top": null,
            "grid_column": null,
            "overflow_y": null,
            "overflow_x": null,
            "grid_auto_flow": null,
            "grid_area": null,
            "grid_template_columns": null,
            "flex": null,
            "_model_name": "LayoutModel",
            "justify_items": null,
            "grid_row": null,
            "max_height": null,
            "align_content": null,
            "visibility": null,
            "align_self": null,
            "height": null,
            "min_height": null,
            "padding": null,
            "grid_auto_rows": null,
            "grid_gap": null,
            "max_width": null,
            "order": null,
            "_view_module_version": "1.2.0",
            "grid_template_areas": null,
            "object_position": null,
            "object_fit": null,
            "grid_auto_columns": null,
            "margin": null,
            "display": null,
            "left": null
          }
        }
      }
    }
  },
  "cells": [
    {
      "cell_type": "markdown",
      "metadata": {
        "id": "DgfHNcOPbOk3"
      },
      "source": [
        "#Classification using XLNet on IMDB dataset\n",
        "\n",
        "In this mini-project, we use a pre-trained neural network as XLNet to predict the sentiment of movie reviews extracted from a large dataset before and after performing data augmentation.\n",
        "\n",
        "Due to the deluge of unstructured data produced nowadays like in text messages, social media, forums, blogs, news publishing platforms, web searches, and many other channels, it is imperative to develop efficient NLP algorithms to handle such a large volume of text data.\n",
        "\n",
        "Over the last decade, NLP technology has seen an incredible leap, with much progress made by Deep Learning. Started by Word2Vec the breakthroughs within the domain are numerous and made possible the creation (or revamp) of applications like machine translation, speech recognition, chatbots, and so on.\n",
        "\n",
        "For this task, we will use various Python libraries to perform data wrangling, exploratory analysis, model building, training, and evaluation."
      ]
    },
    {
      "cell_type": "markdown",
      "metadata": {
        "id": "VNfPfsebBWVZ"
      },
      "source": [
        "## 1.Data gathering\n",
        "\n",
        "We start by gathering the movie reviews from raw text files made available from Stanford AI Lab at this [link](https://ai.stanford.edu/~amaas/data/sentiment/).\n",
        "\n",
        "The text files names follow a convention: [id]_[rating].txt where [id] is a unique id and [rating] is the star rating for that review on a 1-10 scale.\n",
        "\n",
        "In the labeled _Train_/_Test_ subsets, a **negative** review has a score <= 4 out of 10,\n",
        "and a **positive** review has a score >= 7 out of 10. Thus reviews with\n",
        "more neutral ratings are not included.\n",
        "\n",
        "Here, we will extract the review information from each file name and assign a label accordingly."
      ]
    },
    {
      "cell_type": "code",
      "metadata": {
        "colab": {
          "base_uri": "https://localhost:8080/"
        },
        "id": "mm6K5U0K_pHn",
        "outputId": "128f22d5-0480-4d30-ed00-a490cc54a0a5"
      },
      "source": [
        "# Mount a virtual drive from GDrive\n",
        "from google.colab import drive\n",
        "drive.mount('/content/drive')"
      ],
      "execution_count": null,
      "outputs": [
        {
          "output_type": "stream",
          "text": [
            "Mounted at /content/drive\n"
          ],
          "name": "stdout"
        }
      ]
    },
    {
      "cell_type": "code",
      "metadata": {
        "colab": {
          "base_uri": "https://localhost:8080/",
          "height": 206
        },
        "id": "x0J8G0VSHyTt",
        "outputId": "fcf66102-5bfc-4d32-d95f-5a1cbf079c01"
      },
      "source": [
        "import pandas as pd\n",
        "import os\n",
        "\n",
        "# Create a list object to import positive reviews from train directory\n",
        "file_names_pos = os.listdir('/content/drive/My Drive/data/aclImdb_v1.tar.gz/aclImdb/train/pos/')\n",
        "\n",
        "# Create dataframe to store scores, labels, and texts\n",
        "train_pos = pd.DataFrame(columns=['text', 'score','label'])\n",
        "\n",
        "for i in range(0,len(file_names_pos)):\n",
        "  ending = file_names_pos[i].split('_')[-1]\n",
        "  res = [int(i) for i in ending.split('.') if i.isdigit()]\n",
        "  train_pos.loc[i,'score'] = res[0]\n",
        "  train_pos.loc[i,'label'] = 'positive'\n",
        "  with open('/content/drive/My Drive/data/aclImdb_v1.tar.gz/aclImdb/train/pos/' + file_names_pos[i], \"r\") as pos_file:\n",
        "    train_pos.loc[i,'text'] = pos_file.read()\n",
        "        \n",
        "# Create a list object to import negative reviews from train directory\n",
        "file_names_neg = os.listdir('/content/drive/My Drive/data/aclImdb_v1.tar.gz/aclImdb/train/neg/')\n",
        "\n",
        "# Create dataframe to store scores, labels, and texts\n",
        "train_neg = pd.DataFrame(columns=['text', 'score','label'])\n",
        "\n",
        "for i in range(0,len(file_names_neg)):\n",
        "  ending = file_names_neg[i].split('_')[-1]\n",
        "  res = [int(i) for i in ending.split('.') if i.isdigit()]\n",
        "  train_neg.loc[i,'score'] = res[0]\n",
        "  train_neg.loc[i,'label'] = 'negative'\n",
        "  with open('/content/drive/My Drive/data/aclImdb_v1.tar.gz/aclImdb/train/neg/' + file_names_neg[i], \"r\") as neg_file:\n",
        "    train_neg.loc[i,'text'] = neg_file.read()\n",
        "\n",
        "# Concatenate both positive and negative reviews dataframes\n",
        "df_train = pd.concat([train_pos,train_neg], ignore_index=True)\n",
        "df_train.head() # display the first 5 rows"
      ],
      "execution_count": null,
      "outputs": [
        {
          "output_type": "execute_result",
          "data": {
            "text/html": [
              "<div>\n",
              "<style scoped>\n",
              "    .dataframe tbody tr th:only-of-type {\n",
              "        vertical-align: middle;\n",
              "    }\n",
              "\n",
              "    .dataframe tbody tr th {\n",
              "        vertical-align: top;\n",
              "    }\n",
              "\n",
              "    .dataframe thead th {\n",
              "        text-align: right;\n",
              "    }\n",
              "</style>\n",
              "<table border=\"1\" class=\"dataframe\">\n",
              "  <thead>\n",
              "    <tr style=\"text-align: right;\">\n",
              "      <th></th>\n",
              "      <th>text</th>\n",
              "      <th>score</th>\n",
              "      <th>label</th>\n",
              "    </tr>\n",
              "  </thead>\n",
              "  <tbody>\n",
              "    <tr>\n",
              "      <th>0</th>\n",
              "      <td>Nicely and intelligently played by the two you...</td>\n",
              "      <td>10</td>\n",
              "      <td>positive</td>\n",
              "    </tr>\n",
              "    <tr>\n",
              "      <th>1</th>\n",
              "      <td>S.S. Van Dine must have been a shrewd business...</td>\n",
              "      <td>8</td>\n",
              "      <td>positive</td>\n",
              "    </tr>\n",
              "    <tr>\n",
              "      <th>2</th>\n",
              "      <td>EDMUND LOWE (who reminds me somewhat of Warren...</td>\n",
              "      <td>7</td>\n",
              "      <td>positive</td>\n",
              "    </tr>\n",
              "    <tr>\n",
              "      <th>3</th>\n",
              "      <td>When Philo Vance (Edmund Lowe) is standing pre...</td>\n",
              "      <td>9</td>\n",
              "      <td>positive</td>\n",
              "    </tr>\n",
              "    <tr>\n",
              "      <th>4</th>\n",
              "      <td>Etienne Girardot is just a character actor--th...</td>\n",
              "      <td>7</td>\n",
              "      <td>positive</td>\n",
              "    </tr>\n",
              "  </tbody>\n",
              "</table>\n",
              "</div>"
            ],
            "text/plain": [
              "                                                text score     label\n",
              "0  Nicely and intelligently played by the two you...    10  positive\n",
              "1  S.S. Van Dine must have been a shrewd business...     8  positive\n",
              "2  EDMUND LOWE (who reminds me somewhat of Warren...     7  positive\n",
              "3  When Philo Vance (Edmund Lowe) is standing pre...     9  positive\n",
              "4  Etienne Girardot is just a character actor--th...     7  positive"
            ]
          },
          "metadata": {
            "tags": []
          },
          "execution_count": 3
        }
      ]
    },
    {
      "cell_type": "code",
      "metadata": {
        "colab": {
          "base_uri": "https://localhost:8080/",
          "height": 206
        },
        "id": "JJMABb5UHyhE",
        "outputId": "a3c12187-adc8-45a5-d0f6-d0a24ced8648"
      },
      "source": [
        "# Create a list object to import positive reviews from test directory\n",
        "file_names_pos = os.listdir('/content/drive/My Drive/data/aclImdb_v1.tar.gz/aclImdb/test/pos/')\n",
        "\n",
        "# Create dataframe to store scores, labels, and texts\n",
        "test_pos = pd.DataFrame(columns=['text', 'score','label'])\n",
        "\n",
        "for i in range(0,len(file_names_pos)):\n",
        "  ending = file_names_pos[i].split('_')[-1]\n",
        "  res = [int(i) for i in ending.split('.') if i.isdigit()]\n",
        "  test_pos.loc[i,'score'] = res[0]\n",
        "  test_pos.loc[i,'label'] = 'positive'\n",
        "  with open('/content/drive/My Drive/data/aclImdb_v1.tar.gz/aclImdb/test/pos/' + file_names_pos[i], \"r\") as pos_file:\n",
        "    test_pos.loc[i,'text'] = pos_file.read()\n",
        "        \n",
        "# Create a list object to import negative reviews from test directory\n",
        "file_names_neg = os.listdir('/content/drive/My Drive/data/aclImdb_v1.tar.gz/aclImdb/test/neg/')\n",
        "\n",
        "# Create dataframe to store scores, labels, and texts\n",
        "test_neg = pd.DataFrame(columns=['text', 'score','label'])\n",
        "\n",
        "for i in range(0,len(file_names_neg)):\n",
        "  ending = file_names_neg[i].split('_')[-1]\n",
        "  res = [int(i) for i in ending.split('.') if i.isdigit()]\n",
        "  test_neg.loc[i,'score'] = res[0]\n",
        "  test_neg.loc[i,'label'] = 'negative'\n",
        "  with open('/content/drive/My Drive/data/aclImdb_v1.tar.gz/aclImdb/test/neg/' + file_names_neg[i], \"r\") as neg_file:\n",
        "    test_neg.loc[i,'text'] = neg_file.read()\n",
        "\n",
        "# Concatenate both positive and negative reviews dataframes\n",
        "df_test = pd.concat([test_pos,test_neg], ignore_index=True)\n",
        "df_test.head() # display the first 5 rows"
      ],
      "execution_count": null,
      "outputs": [
        {
          "output_type": "execute_result",
          "data": {
            "text/html": [
              "<div>\n",
              "<style scoped>\n",
              "    .dataframe tbody tr th:only-of-type {\n",
              "        vertical-align: middle;\n",
              "    }\n",
              "\n",
              "    .dataframe tbody tr th {\n",
              "        vertical-align: top;\n",
              "    }\n",
              "\n",
              "    .dataframe thead th {\n",
              "        text-align: right;\n",
              "    }\n",
              "</style>\n",
              "<table border=\"1\" class=\"dataframe\">\n",
              "  <thead>\n",
              "    <tr style=\"text-align: right;\">\n",
              "      <th></th>\n",
              "      <th>text</th>\n",
              "      <th>score</th>\n",
              "      <th>label</th>\n",
              "    </tr>\n",
              "  </thead>\n",
              "  <tbody>\n",
              "    <tr>\n",
              "      <th>0</th>\n",
              "      <td>Simon Wests pg-13 thriller about a babysitter ...</td>\n",
              "      <td>7</td>\n",
              "      <td>positive</td>\n",
              "    </tr>\n",
              "    <tr>\n",
              "      <th>1</th>\n",
              "      <td>I was recently at a sleepover birthday party w...</td>\n",
              "      <td>9</td>\n",
              "      <td>positive</td>\n",
              "    </tr>\n",
              "    <tr>\n",
              "      <th>2</th>\n",
              "      <td>A hundred miles away from the scene of a grizz...</td>\n",
              "      <td>7</td>\n",
              "      <td>positive</td>\n",
              "    </tr>\n",
              "    <tr>\n",
              "      <th>3</th>\n",
              "      <td>If you have ever babysat in a house you didn't...</td>\n",
              "      <td>7</td>\n",
              "      <td>positive</td>\n",
              "    </tr>\n",
              "    <tr>\n",
              "      <th>4</th>\n",
              "      <td>People say that this film is a 'typical teen h...</td>\n",
              "      <td>8</td>\n",
              "      <td>positive</td>\n",
              "    </tr>\n",
              "  </tbody>\n",
              "</table>\n",
              "</div>"
            ],
            "text/plain": [
              "                                                text score     label\n",
              "0  Simon Wests pg-13 thriller about a babysitter ...     7  positive\n",
              "1  I was recently at a sleepover birthday party w...     9  positive\n",
              "2  A hundred miles away from the scene of a grizz...     7  positive\n",
              "3  If you have ever babysat in a house you didn't...     7  positive\n",
              "4  People say that this film is a 'typical teen h...     8  positive"
            ]
          },
          "metadata": {
            "tags": []
          },
          "execution_count": 6
        }
      ]
    },
    {
      "cell_type": "markdown",
      "metadata": {
        "id": "SEYW57KYxZnV"
      },
      "source": [
        "## 2. Exploratory Analysis\n",
        "\n",
        "Before start is always a good practice to understand the data. So, let's do some exploratory data analysis;"
      ]
    },
    {
      "cell_type": "code",
      "metadata": {
        "colab": {
          "base_uri": "https://localhost:8080/",
          "height": 175
        },
        "id": "8C7Mg3S7wL5S",
        "outputId": "ff96b5bf-d83a-4909-b632-7630ff1b2392"
      },
      "source": [
        "# Get preliminaries from dataset\n",
        "df_train.describe()"
      ],
      "execution_count": null,
      "outputs": [
        {
          "output_type": "execute_result",
          "data": {
            "text/html": [
              "<div>\n",
              "<style scoped>\n",
              "    .dataframe tbody tr th:only-of-type {\n",
              "        vertical-align: middle;\n",
              "    }\n",
              "\n",
              "    .dataframe tbody tr th {\n",
              "        vertical-align: top;\n",
              "    }\n",
              "\n",
              "    .dataframe thead th {\n",
              "        text-align: right;\n",
              "    }\n",
              "</style>\n",
              "<table border=\"1\" class=\"dataframe\">\n",
              "  <thead>\n",
              "    <tr style=\"text-align: right;\">\n",
              "      <th></th>\n",
              "      <th>text</th>\n",
              "      <th>score</th>\n",
              "      <th>label</th>\n",
              "    </tr>\n",
              "  </thead>\n",
              "  <tbody>\n",
              "    <tr>\n",
              "      <th>count</th>\n",
              "      <td>25000</td>\n",
              "      <td>25000</td>\n",
              "      <td>25000</td>\n",
              "    </tr>\n",
              "    <tr>\n",
              "      <th>unique</th>\n",
              "      <td>24904</td>\n",
              "      <td>8</td>\n",
              "      <td>2</td>\n",
              "    </tr>\n",
              "    <tr>\n",
              "      <th>top</th>\n",
              "      <td>This show comes up with interesting locations ...</td>\n",
              "      <td>1</td>\n",
              "      <td>negative</td>\n",
              "    </tr>\n",
              "    <tr>\n",
              "      <th>freq</th>\n",
              "      <td>3</td>\n",
              "      <td>5100</td>\n",
              "      <td>12500</td>\n",
              "    </tr>\n",
              "  </tbody>\n",
              "</table>\n",
              "</div>"
            ],
            "text/plain": [
              "                                                     text  score     label\n",
              "count                                               25000  25000     25000\n",
              "unique                                              24904      8         2\n",
              "top     This show comes up with interesting locations ...      1  negative\n",
              "freq                                                    3   5100     12500"
            ]
          },
          "metadata": {
            "tags": []
          },
          "execution_count": 157
        }
      ]
    },
    {
      "cell_type": "markdown",
      "metadata": {
        "id": "Wq2XeL8Rx4ZN"
      },
      "source": [
        "As we see, the _Train_ subset has 25,000 rows. However, not all of them are unique, that means, there are some duplicates that we need to deal with."
      ]
    },
    {
      "cell_type": "code",
      "metadata": {
        "colab": {
          "base_uri": "https://localhost:8080/",
          "height": 424
        },
        "id": "c1rknqAZzNuz",
        "outputId": "035d19f7-32cf-4aa6-f281-44a5d71709d8"
      },
      "source": [
        "# Display duplicates\n",
        "duplicated = df_train[df_train.duplicated(keep=False)]\n",
        "duplicated.sort_values(\"text\")"
      ],
      "execution_count": null,
      "outputs": [
        {
          "output_type": "execute_result",
          "data": {
            "text/html": [
              "<div>\n",
              "<style scoped>\n",
              "    .dataframe tbody tr th:only-of-type {\n",
              "        vertical-align: middle;\n",
              "    }\n",
              "\n",
              "    .dataframe tbody tr th {\n",
              "        vertical-align: top;\n",
              "    }\n",
              "\n",
              "    .dataframe thead th {\n",
              "        text-align: right;\n",
              "    }\n",
              "</style>\n",
              "<table border=\"1\" class=\"dataframe\">\n",
              "  <thead>\n",
              "    <tr style=\"text-align: right;\">\n",
              "      <th></th>\n",
              "      <th>text</th>\n",
              "      <th>score</th>\n",
              "      <th>label</th>\n",
              "    </tr>\n",
              "  </thead>\n",
              "  <tbody>\n",
              "    <tr>\n",
              "      <th>21217</th>\n",
              "      <td>'Dead Letter Office' is a low-budget film abou...</td>\n",
              "      <td>4</td>\n",
              "      <td>negative</td>\n",
              "    </tr>\n",
              "    <tr>\n",
              "      <th>23936</th>\n",
              "      <td>'Dead Letter Office' is a low-budget film abou...</td>\n",
              "      <td>4</td>\n",
              "      <td>negative</td>\n",
              "    </tr>\n",
              "    <tr>\n",
              "      <th>6591</th>\n",
              "      <td>.......Playing Kaddiddlehopper, Col San Fernan...</td>\n",
              "      <td>8</td>\n",
              "      <td>positive</td>\n",
              "    </tr>\n",
              "    <tr>\n",
              "      <th>3741</th>\n",
              "      <td>.......Playing Kaddiddlehopper, Col San Fernan...</td>\n",
              "      <td>8</td>\n",
              "      <td>positive</td>\n",
              "    </tr>\n",
              "    <tr>\n",
              "      <th>18177</th>\n",
              "      <td>&lt;br /&gt;&lt;br /&gt;Back in his youth, the old man had...</td>\n",
              "      <td>2</td>\n",
              "      <td>negative</td>\n",
              "    </tr>\n",
              "    <tr>\n",
              "      <th>...</th>\n",
              "      <td>...</td>\n",
              "      <td>...</td>\n",
              "      <td>...</td>\n",
              "    </tr>\n",
              "    <tr>\n",
              "      <th>17877</th>\n",
              "      <td>in this movie, joe pesci slams dunks a basketb...</td>\n",
              "      <td>3</td>\n",
              "      <td>negative</td>\n",
              "    </tr>\n",
              "    <tr>\n",
              "      <th>3123</th>\n",
              "      <td>it's amazing that so many people that i know h...</td>\n",
              "      <td>9</td>\n",
              "      <td>positive</td>\n",
              "    </tr>\n",
              "    <tr>\n",
              "      <th>3126</th>\n",
              "      <td>it's amazing that so many people that i know h...</td>\n",
              "      <td>9</td>\n",
              "      <td>positive</td>\n",
              "    </tr>\n",
              "    <tr>\n",
              "      <th>20027</th>\n",
              "      <td>this movie begins with an ordinary funeral... ...</td>\n",
              "      <td>1</td>\n",
              "      <td>negative</td>\n",
              "    </tr>\n",
              "    <tr>\n",
              "      <th>17542</th>\n",
              "      <td>this movie begins with an ordinary funeral... ...</td>\n",
              "      <td>1</td>\n",
              "      <td>negative</td>\n",
              "    </tr>\n",
              "  </tbody>\n",
              "</table>\n",
              "<p>186 rows × 3 columns</p>\n",
              "</div>"
            ],
            "text/plain": [
              "                                                    text score     label\n",
              "21217  'Dead Letter Office' is a low-budget film abou...     4  negative\n",
              "23936  'Dead Letter Office' is a low-budget film abou...     4  negative\n",
              "6591   .......Playing Kaddiddlehopper, Col San Fernan...     8  positive\n",
              "3741   .......Playing Kaddiddlehopper, Col San Fernan...     8  positive\n",
              "18177  <br /><br />Back in his youth, the old man had...     2  negative\n",
              "...                                                  ...   ...       ...\n",
              "17877  in this movie, joe pesci slams dunks a basketb...     3  negative\n",
              "3123   it's amazing that so many people that i know h...     9  positive\n",
              "3126   it's amazing that so many people that i know h...     9  positive\n",
              "20027  this movie begins with an ordinary funeral... ...     1  negative\n",
              "17542  this movie begins with an ordinary funeral... ...     1  negative\n",
              "\n",
              "[186 rows x 3 columns]"
            ]
          },
          "metadata": {
            "tags": []
          },
          "execution_count": 158
        }
      ]
    },
    {
      "cell_type": "code",
      "metadata": {
        "colab": {
          "base_uri": "https://localhost:8080/"
        },
        "id": "NBzbN_7_yOCt",
        "outputId": "13d48788-bbf3-4653-b27e-bc0f1c99e2f1"
      },
      "source": [
        "# Drop the duplicates\n",
        "df_train = pd.DataFrame.drop_duplicates(df_train, ignore_index=True)\n",
        "df_train.shape"
      ],
      "execution_count": null,
      "outputs": [
        {
          "output_type": "execute_result",
          "data": {
            "text/plain": [
              "(24905, 3)"
            ]
          },
          "metadata": {
            "tags": []
          },
          "execution_count": 3
        }
      ]
    },
    {
      "cell_type": "markdown",
      "metadata": {
        "id": "2n8Lajgc_3Gf"
      },
      "source": [
        "From 25,000 rows 24,905 were left. Let's check again for uniquiness."
      ]
    },
    {
      "cell_type": "code",
      "metadata": {
        "colab": {
          "base_uri": "https://localhost:8080/",
          "height": 175
        },
        "id": "KnOSWaiO3Nje",
        "outputId": "9b49caf5-6a35-4bea-d2e2-11b23dc36cc6"
      },
      "source": [
        "# Check the result\n",
        "df_train.describe()"
      ],
      "execution_count": null,
      "outputs": [
        {
          "output_type": "execute_result",
          "data": {
            "text/html": [
              "<div>\n",
              "<style scoped>\n",
              "    .dataframe tbody tr th:only-of-type {\n",
              "        vertical-align: middle;\n",
              "    }\n",
              "\n",
              "    .dataframe tbody tr th {\n",
              "        vertical-align: top;\n",
              "    }\n",
              "\n",
              "    .dataframe thead th {\n",
              "        text-align: right;\n",
              "    }\n",
              "</style>\n",
              "<table border=\"1\" class=\"dataframe\">\n",
              "  <thead>\n",
              "    <tr style=\"text-align: right;\">\n",
              "      <th></th>\n",
              "      <th>text</th>\n",
              "      <th>score</th>\n",
              "      <th>label</th>\n",
              "    </tr>\n",
              "  </thead>\n",
              "  <tbody>\n",
              "    <tr>\n",
              "      <th>count</th>\n",
              "      <td>24905</td>\n",
              "      <td>24905</td>\n",
              "      <td>24905</td>\n",
              "    </tr>\n",
              "    <tr>\n",
              "      <th>unique</th>\n",
              "      <td>24904</td>\n",
              "      <td>8</td>\n",
              "      <td>2</td>\n",
              "    </tr>\n",
              "    <tr>\n",
              "      <th>top</th>\n",
              "      <td>Sondra Locke stinks in this film, but then she...</td>\n",
              "      <td>1</td>\n",
              "      <td>positive</td>\n",
              "    </tr>\n",
              "    <tr>\n",
              "      <th>freq</th>\n",
              "      <td>2</td>\n",
              "      <td>5068</td>\n",
              "      <td>12472</td>\n",
              "    </tr>\n",
              "  </tbody>\n",
              "</table>\n",
              "</div>"
            ],
            "text/plain": [
              "                                                     text  score     label\n",
              "count                                               24905  24905     24905\n",
              "unique                                              24904      8         2\n",
              "top     Sondra Locke stinks in this film, but then she...      1  positive\n",
              "freq                                                    2   5068     12472"
            ]
          },
          "metadata": {
            "tags": []
          },
          "execution_count": 160
        }
      ]
    },
    {
      "cell_type": "markdown",
      "metadata": {
        "id": "FeTDyLv0AGkz"
      },
      "source": [
        "Still a problem. There is an issue with the row with text about _Sondra Locke's_ film. Let's investigate."
      ]
    },
    {
      "cell_type": "code",
      "metadata": {
        "colab": {
          "base_uri": "https://localhost:8080/",
          "height": 112
        },
        "id": "AqkojEOg4CnS",
        "outputId": "38ed4f1f-dba1-4a58-93ae-0fd919596a8d"
      },
      "source": [
        "# Display rows with the same text about Sondra Locke\n",
        "df_train[df_train['text'].str.contains(\"Sondra Locke stinks in this film, but then she\")]"
      ],
      "execution_count": null,
      "outputs": [
        {
          "output_type": "execute_result",
          "data": {
            "text/html": [
              "<div>\n",
              "<style scoped>\n",
              "    .dataframe tbody tr th:only-of-type {\n",
              "        vertical-align: middle;\n",
              "    }\n",
              "\n",
              "    .dataframe tbody tr th {\n",
              "        vertical-align: top;\n",
              "    }\n",
              "\n",
              "    .dataframe thead th {\n",
              "        text-align: right;\n",
              "    }\n",
              "</style>\n",
              "<table border=\"1\" class=\"dataframe\">\n",
              "  <thead>\n",
              "    <tr style=\"text-align: right;\">\n",
              "      <th></th>\n",
              "      <th>text</th>\n",
              "      <th>score</th>\n",
              "      <th>label</th>\n",
              "    </tr>\n",
              "  </thead>\n",
              "  <tbody>\n",
              "    <tr>\n",
              "      <th>13436</th>\n",
              "      <td>Sondra Locke stinks in this film, but then she...</td>\n",
              "      <td>3</td>\n",
              "      <td>negative</td>\n",
              "    </tr>\n",
              "    <tr>\n",
              "      <th>13438</th>\n",
              "      <td>Sondra Locke stinks in this film, but then she...</td>\n",
              "      <td>4</td>\n",
              "      <td>negative</td>\n",
              "    </tr>\n",
              "  </tbody>\n",
              "</table>\n",
              "</div>"
            ],
            "text/plain": [
              "                                                    text score     label\n",
              "13436  Sondra Locke stinks in this film, but then she...     3  negative\n",
              "13438  Sondra Locke stinks in this film, but then she...     4  negative"
            ]
          },
          "metadata": {
            "tags": []
          },
          "execution_count": 161
        }
      ]
    },
    {
      "cell_type": "markdown",
      "metadata": {
        "id": "6nxjHdUicUcu"
      },
      "source": [
        "The previous cleaning method didn't catch this issue because it did not considered those rows as duplicates since the scores are different. Let's handle that."
      ]
    },
    {
      "cell_type": "code",
      "metadata": {
        "id": "Ns6kwp705Co3"
      },
      "source": [
        "# Drop the duplicate\n",
        "df_train = df_train.drop(df_train.index[13438])"
      ],
      "execution_count": null,
      "outputs": []
    },
    {
      "cell_type": "code",
      "metadata": {
        "colab": {
          "base_uri": "https://localhost:8080/",
          "height": 173
        },
        "id": "Ny8195Tf3Nvp",
        "outputId": "c99db45d-1152-45d6-84bb-7eb61c4a74fb"
      },
      "source": [
        "# Check the result\n",
        "df_train.describe()"
      ],
      "execution_count": null,
      "outputs": [
        {
          "output_type": "execute_result",
          "data": {
            "text/html": [
              "<div>\n",
              "<style scoped>\n",
              "    .dataframe tbody tr th:only-of-type {\n",
              "        vertical-align: middle;\n",
              "    }\n",
              "\n",
              "    .dataframe tbody tr th {\n",
              "        vertical-align: top;\n",
              "    }\n",
              "\n",
              "    .dataframe thead th {\n",
              "        text-align: right;\n",
              "    }\n",
              "</style>\n",
              "<table border=\"1\" class=\"dataframe\">\n",
              "  <thead>\n",
              "    <tr style=\"text-align: right;\">\n",
              "      <th></th>\n",
              "      <th>text</th>\n",
              "      <th>score</th>\n",
              "      <th>label</th>\n",
              "    </tr>\n",
              "  </thead>\n",
              "  <tbody>\n",
              "    <tr>\n",
              "      <th>count</th>\n",
              "      <td>24904</td>\n",
              "      <td>24904</td>\n",
              "      <td>24904</td>\n",
              "    </tr>\n",
              "    <tr>\n",
              "      <th>unique</th>\n",
              "      <td>24904</td>\n",
              "      <td>8</td>\n",
              "      <td>2</td>\n",
              "    </tr>\n",
              "    <tr>\n",
              "      <th>top</th>\n",
              "      <td>I'm certainly glad that a film was made about ...</td>\n",
              "      <td>1</td>\n",
              "      <td>positive</td>\n",
              "    </tr>\n",
              "    <tr>\n",
              "      <th>freq</th>\n",
              "      <td>1</td>\n",
              "      <td>5068</td>\n",
              "      <td>12472</td>\n",
              "    </tr>\n",
              "  </tbody>\n",
              "</table>\n",
              "</div>"
            ],
            "text/plain": [
              "                                                     text  score     label\n",
              "count                                               24904  24904     24904\n",
              "unique                                              24904      8         2\n",
              "top     I'm certainly glad that a film was made about ...      1  positive\n",
              "freq                                                    1   5068     12472"
            ]
          },
          "metadata": {
            "tags": []
          },
          "execution_count": 5
        }
      ]
    },
    {
      "cell_type": "markdown",
      "metadata": {
        "id": "6Ogfgi1cA5s1"
      },
      "source": [
        "We are good to go. Now, let's check for the distribution of _scores_ and _labels_. But first we need to check on each column data type."
      ]
    },
    {
      "cell_type": "code",
      "metadata": {
        "colab": {
          "base_uri": "https://localhost:8080/"
        },
        "id": "zuEV-NbnBqoU",
        "outputId": "0394f925-8f76-4cd9-9d8a-3a2516af33ae"
      },
      "source": [
        "# Check columns data type\n",
        "df_train.dtypes"
      ],
      "execution_count": null,
      "outputs": [
        {
          "output_type": "execute_result",
          "data": {
            "text/plain": [
              "text     object\n",
              "score    object\n",
              "label    object\n",
              "dtype: object"
            ]
          },
          "metadata": {
            "tags": []
          },
          "execution_count": 164
        }
      ]
    },
    {
      "cell_type": "markdown",
      "metadata": {
        "id": "uNDXcSIxF-1-"
      },
      "source": [
        "Before plotting we need to convert each column values accordingly."
      ]
    },
    {
      "cell_type": "code",
      "metadata": {
        "id": "Lci7sFcvB_Bb"
      },
      "source": [
        "df_train['score'] = df_train['score'].astype(int) # convert into integers\n",
        "df_train['label'] = pd.Categorical(df_train.label) # convert into categorical"
      ],
      "execution_count": null,
      "outputs": []
    },
    {
      "cell_type": "code",
      "metadata": {
        "colab": {
          "base_uri": "https://localhost:8080/",
          "height": 285
        },
        "id": "CWh1rn92BH10",
        "outputId": "31879a42-cc06-417c-fc92-d2a0eef1205c"
      },
      "source": [
        "import seaborn as sns\n",
        "\n",
        "sns.set(color_codes=True)\n",
        "sns.set(style=\"white\", palette=\"muted\")\n",
        "\n",
        "# Plot histogram of the scores\n",
        "score =sns.histplot(data=df_train, x=\"score\", bins=8)"
      ],
      "execution_count": null,
      "outputs": [
        {
          "output_type": "display_data",
          "data": {
            "image/png": "[encoded data removed]",
            "text/plain": [
              "<Figure size 432x288 with 1 Axes>"
            ]
          },
          "metadata": {
            "tags": []
          }
        }
      ]
    },
    {
      "cell_type": "markdown",
      "metadata": {
        "id": "01IGzHVoGSEl"
      },
      "source": [
        "The graph above is pratically symmetric with no values between 5 and 6 (as previously noted) which indicates that the distribuition of negatives and positive labels may be uniform. Let's check."
      ]
    },
    {
      "cell_type": "code",
      "metadata": {
        "colab": {
          "base_uri": "https://localhost:8080/",
          "height": 382
        },
        "id": "wl-rklsBDbAD",
        "outputId": "2b5f0973-312b-405c-d415-3e218b8be78c"
      },
      "source": [
        "# Print labels bar plor\n",
        "label = sns.catplot(x=\"label\", kind=\"count\", data=df_train)"
      ],
      "execution_count": null,
      "outputs": [
        {
          "output_type": "display_data",
          "data": {
            "image/png": "[encoded data removed]",
            "text/plain": [
              "<Figure size 360x360 with 1 Axes>"
            ]
          },
          "metadata": {
            "tags": []
          }
        }
      ]
    },
    {
      "cell_type": "markdown",
      "metadata": {
        "id": "oWuUZWP-RzS4"
      },
      "source": [
        "As we can verify from the graph above, the labels are not significantly imbalanced and we do not have to worry about doing under(over)sampling or creating synthetic data."
      ]
    },
    {
      "cell_type": "markdown",
      "metadata": {
        "id": "ABHoN2TIS9Sj"
      },
      "source": [
        "Let's do a similar check on _Test_ subset."
      ]
    },
    {
      "cell_type": "code",
      "metadata": {
        "colab": {
          "base_uri": "https://localhost:8080/",
          "height": 175
        },
        "id": "2Ymurgh4LcPk",
        "outputId": "9bf7ac23-c1ba-475f-eee9-a0a118778d00"
      },
      "source": [
        "# Get preliminaries from datases\n",
        "df_test.describe()"
      ],
      "execution_count": null,
      "outputs": [
        {
          "output_type": "execute_result",
          "data": {
            "text/html": [
              "<div>\n",
              "<style scoped>\n",
              "    .dataframe tbody tr th:only-of-type {\n",
              "        vertical-align: middle;\n",
              "    }\n",
              "\n",
              "    .dataframe tbody tr th {\n",
              "        vertical-align: top;\n",
              "    }\n",
              "\n",
              "    .dataframe thead th {\n",
              "        text-align: right;\n",
              "    }\n",
              "</style>\n",
              "<table border=\"1\" class=\"dataframe\">\n",
              "  <thead>\n",
              "    <tr style=\"text-align: right;\">\n",
              "      <th></th>\n",
              "      <th>text</th>\n",
              "      <th>score</th>\n",
              "      <th>label</th>\n",
              "    </tr>\n",
              "  </thead>\n",
              "  <tbody>\n",
              "    <tr>\n",
              "      <th>count</th>\n",
              "      <td>25000</td>\n",
              "      <td>25000</td>\n",
              "      <td>25000</td>\n",
              "    </tr>\n",
              "    <tr>\n",
              "      <th>unique</th>\n",
              "      <td>24801</td>\n",
              "      <td>8</td>\n",
              "      <td>2</td>\n",
              "    </tr>\n",
              "    <tr>\n",
              "      <th>top</th>\n",
              "      <td>Loved today's show!!! It was a variety and not...</td>\n",
              "      <td>1</td>\n",
              "      <td>positive</td>\n",
              "    </tr>\n",
              "    <tr>\n",
              "      <th>freq</th>\n",
              "      <td>5</td>\n",
              "      <td>5022</td>\n",
              "      <td>12500</td>\n",
              "    </tr>\n",
              "  </tbody>\n",
              "</table>\n",
              "</div>"
            ],
            "text/plain": [
              "                                                     text  score     label\n",
              "count                                               25000  25000     25000\n",
              "unique                                              24801      8         2\n",
              "top     Loved today's show!!! It was a variety and not...      1  positive\n",
              "freq                                                    5   5022     12500"
            ]
          },
          "metadata": {
            "tags": []
          },
          "execution_count": 4
        }
      ]
    },
    {
      "cell_type": "markdown",
      "metadata": {
        "id": "23jywIZfTKC0"
      },
      "source": [
        "There are also issues with duplicated rows. Now that we are aware, we will not  remove duplicates considering all columns values but only _text_ duplicates."
      ]
    },
    {
      "cell_type": "code",
      "metadata": {
        "id": "LJVzX6cAPLoP"
      },
      "source": [
        "# Remove row duplicates based on text\n",
        "df_test = df_test.drop_duplicates(subset=['text'])"
      ],
      "execution_count": null,
      "outputs": []
    },
    {
      "cell_type": "code",
      "metadata": {
        "colab": {
          "base_uri": "https://localhost:8080/",
          "height": 173
        },
        "id": "ppM_uu8Yn-xK",
        "outputId": "7a04134a-43ea-41f2-d6bb-52412132a452"
      },
      "source": [
        "# Check the result\n",
        "df_test.describe()"
      ],
      "execution_count": null,
      "outputs": [
        {
          "output_type": "execute_result",
          "data": {
            "text/html": [
              "<div>\n",
              "<style scoped>\n",
              "    .dataframe tbody tr th:only-of-type {\n",
              "        vertical-align: middle;\n",
              "    }\n",
              "\n",
              "    .dataframe tbody tr th {\n",
              "        vertical-align: top;\n",
              "    }\n",
              "\n",
              "    .dataframe thead th {\n",
              "        text-align: right;\n",
              "    }\n",
              "</style>\n",
              "<table border=\"1\" class=\"dataframe\">\n",
              "  <thead>\n",
              "    <tr style=\"text-align: right;\">\n",
              "      <th></th>\n",
              "      <th>text</th>\n",
              "      <th>score</th>\n",
              "      <th>label</th>\n",
              "    </tr>\n",
              "  </thead>\n",
              "  <tbody>\n",
              "    <tr>\n",
              "      <th>count</th>\n",
              "      <td>24801</td>\n",
              "      <td>24801</td>\n",
              "      <td>24801</td>\n",
              "    </tr>\n",
              "    <tr>\n",
              "      <th>unique</th>\n",
              "      <td>24801</td>\n",
              "      <td>8</td>\n",
              "      <td>2</td>\n",
              "    </tr>\n",
              "    <tr>\n",
              "      <th>top</th>\n",
              "      <td>The first thing I noticed about this movie was...</td>\n",
              "      <td>10</td>\n",
              "      <td>positive</td>\n",
              "    </tr>\n",
              "    <tr>\n",
              "      <th>freq</th>\n",
              "      <td>1</td>\n",
              "      <td>4965</td>\n",
              "      <td>12440</td>\n",
              "    </tr>\n",
              "  </tbody>\n",
              "</table>\n",
              "</div>"
            ],
            "text/plain": [
              "                                                     text  score     label\n",
              "count                                               24801  24801     24801\n",
              "unique                                              24801      8         2\n",
              "top     The first thing I noticed about this movie was...     10  positive\n",
              "freq                                                    1   4965     12440"
            ]
          },
          "metadata": {
            "tags": []
          },
          "execution_count": 9
        }
      ]
    },
    {
      "cell_type": "code",
      "metadata": {
        "id": "oE_cq59YVVhE"
      },
      "source": [
        "df_test['score'] = df_test['score'].astype(int) # convert into integers\n",
        "df_test['label'] = pd.Categorical(df_test.label) # convert into categorical"
      ],
      "execution_count": null,
      "outputs": []
    },
    {
      "cell_type": "code",
      "metadata": {
        "colab": {
          "base_uri": "https://localhost:8080/"
        },
        "id": "yFHu_PF8SjpR",
        "outputId": "76adcb35-4ba9-45c9-dae4-835e6a5a73a5"
      },
      "source": [
        "# Count labels for each category\n",
        "df_test['label'].value_counts()"
      ],
      "execution_count": null,
      "outputs": [
        {
          "output_type": "execute_result",
          "data": {
            "text/plain": [
              "positive    12440\n",
              "negative    12361\n",
              "Name: label, dtype: int64"
            ]
          },
          "metadata": {
            "tags": []
          },
          "execution_count": 13
        }
      ]
    },
    {
      "cell_type": "markdown",
      "metadata": {
        "id": "R-0LcIGbqCyL"
      },
      "source": [
        "## 2. Data Pre-processing\n",
        "\n",
        "In every NLP task it is necessary to perform some pre-processing on data, like removing some characters from text that do not bring much information  like urls, tags, accents, emoticons, and stop words. Sometimes it is desirable to go for words' decapitalization and use word stems."
      ]
    },
    {
      "cell_type": "code",
      "metadata": {
        "id": "NTBeXR473G0h"
      },
      "source": [
        "import re\n",
        "\n",
        "# Define a function to remove unecessary characters from the text\n",
        "def clean_text(text):\n",
        "    # text = text.lower() #lower case\n",
        "    text = re.sub(r\"<[^>]*>\", ' ', text)\n",
        "    text = re.sub(r\"@[A-Za-z0-9]+\", ' ', text)\n",
        "    text = re.sub(r\"https?://[A-Za-z0-9./]+\", ' ', text)\n",
        "    text = re.sub(r\"[^a-zA-z.!?'0-9]\", ' ', text)\n",
        "    text = re.sub('\\t', ' ',  text)\n",
        "    text = re.sub(r\" +\", ' ', text)\n",
        "    return text"
      ],
      "execution_count": null,
      "outputs": []
    },
    {
      "cell_type": "code",
      "metadata": {
        "colab": {
          "base_uri": "https://localhost:8080/",
          "height": 204
        },
        "id": "VH7AN2mN3Ino",
        "outputId": "99dd9fa4-821d-4184-db4b-b2d3f1dece8b"
      },
      "source": [
        "# Apply the clean_text function of both data sets\n",
        "df_train['text'] = df_train['text'].apply(clean_text)\n",
        "df_test['text'] = df_test['text'].apply(clean_text)\n",
        "df_train.head() # display the first 5 rows of Train subset"
      ],
      "execution_count": null,
      "outputs": [
        {
          "output_type": "execute_result",
          "data": {
            "text/html": [
              "<div>\n",
              "<style scoped>\n",
              "    .dataframe tbody tr th:only-of-type {\n",
              "        vertical-align: middle;\n",
              "    }\n",
              "\n",
              "    .dataframe tbody tr th {\n",
              "        vertical-align: top;\n",
              "    }\n",
              "\n",
              "    .dataframe thead th {\n",
              "        text-align: right;\n",
              "    }\n",
              "</style>\n",
              "<table border=\"1\" class=\"dataframe\">\n",
              "  <thead>\n",
              "    <tr style=\"text-align: right;\">\n",
              "      <th></th>\n",
              "      <th>text</th>\n",
              "      <th>score</th>\n",
              "      <th>label</th>\n",
              "    </tr>\n",
              "  </thead>\n",
              "  <tbody>\n",
              "    <tr>\n",
              "      <th>0</th>\n",
              "      <td>Nicely and intelligently played by the two you...</td>\n",
              "      <td>10</td>\n",
              "      <td>positive</td>\n",
              "    </tr>\n",
              "    <tr>\n",
              "      <th>1</th>\n",
              "      <td>S.S. Van Dine must have been a shrewd business...</td>\n",
              "      <td>8</td>\n",
              "      <td>positive</td>\n",
              "    </tr>\n",
              "    <tr>\n",
              "      <th>2</th>\n",
              "      <td>EDMUND LOWE who reminds me somewhat of Warren ...</td>\n",
              "      <td>7</td>\n",
              "      <td>positive</td>\n",
              "    </tr>\n",
              "    <tr>\n",
              "      <th>3</th>\n",
              "      <td>When Philo Vance Edmund Lowe is standing preca...</td>\n",
              "      <td>9</td>\n",
              "      <td>positive</td>\n",
              "    </tr>\n",
              "    <tr>\n",
              "      <th>4</th>\n",
              "      <td>Etienne Girardot is just a character actor the...</td>\n",
              "      <td>7</td>\n",
              "      <td>positive</td>\n",
              "    </tr>\n",
              "  </tbody>\n",
              "</table>\n",
              "</div>"
            ],
            "text/plain": [
              "                                                text  score     label\n",
              "0  Nicely and intelligently played by the two you...     10  positive\n",
              "1  S.S. Van Dine must have been a shrewd business...      8  positive\n",
              "2  EDMUND LOWE who reminds me somewhat of Warren ...      7  positive\n",
              "3  When Philo Vance Edmund Lowe is standing preca...      9  positive\n",
              "4  Etienne Girardot is just a character actor the...      7  positive"
            ]
          },
          "metadata": {
            "tags": []
          },
          "execution_count": 12
        }
      ]
    },
    {
      "cell_type": "markdown",
      "metadata": {
        "id": "ap5UwFshtHWV"
      },
      "source": [
        "Now we will replace the categorical values of the labels by numbers, that means, positive = 1, and negative = 0."
      ]
    },
    {
      "cell_type": "code",
      "metadata": {
        "colab": {
          "base_uri": "https://localhost:8080/",
          "height": 204
        },
        "id": "q21TmgqmuXEL",
        "outputId": "e9a1fcae-e734-4926-d0e7-37adba6006c1"
      },
      "source": [
        "# Replace labels with numbers on both subsets\n",
        "df_train['label'] = df_train['label'].map({'positive':1, 'negative':0})\n",
        "df_test['label'] = df_test['label'].map({'positive':1, 'negative':0})\n",
        "df_test.head() # display the first 5 rows of Test subset"
      ],
      "execution_count": null,
      "outputs": [
        {
          "output_type": "execute_result",
          "data": {
            "text/html": [
              "<div>\n",
              "<style scoped>\n",
              "    .dataframe tbody tr th:only-of-type {\n",
              "        vertical-align: middle;\n",
              "    }\n",
              "\n",
              "    .dataframe tbody tr th {\n",
              "        vertical-align: top;\n",
              "    }\n",
              "\n",
              "    .dataframe thead th {\n",
              "        text-align: right;\n",
              "    }\n",
              "</style>\n",
              "<table border=\"1\" class=\"dataframe\">\n",
              "  <thead>\n",
              "    <tr style=\"text-align: right;\">\n",
              "      <th></th>\n",
              "      <th>text</th>\n",
              "      <th>score</th>\n",
              "      <th>label</th>\n",
              "    </tr>\n",
              "  </thead>\n",
              "  <tbody>\n",
              "    <tr>\n",
              "      <th>0</th>\n",
              "      <td>Simon Wests pg 13 thriller about a babysitter ...</td>\n",
              "      <td>7</td>\n",
              "      <td>1</td>\n",
              "    </tr>\n",
              "    <tr>\n",
              "      <th>1</th>\n",
              "      <td>I was recently at a sleepover birthday party w...</td>\n",
              "      <td>9</td>\n",
              "      <td>1</td>\n",
              "    </tr>\n",
              "    <tr>\n",
              "      <th>2</th>\n",
              "      <td>A hundred miles away from the scene of a grizz...</td>\n",
              "      <td>7</td>\n",
              "      <td>1</td>\n",
              "    </tr>\n",
              "    <tr>\n",
              "      <th>3</th>\n",
              "      <td>If you have ever babysat in a house you didn't...</td>\n",
              "      <td>7</td>\n",
              "      <td>1</td>\n",
              "    </tr>\n",
              "    <tr>\n",
              "      <th>4</th>\n",
              "      <td>People say that this film is a 'typical teen h...</td>\n",
              "      <td>8</td>\n",
              "      <td>1</td>\n",
              "    </tr>\n",
              "  </tbody>\n",
              "</table>\n",
              "</div>"
            ],
            "text/plain": [
              "                                                text  score label\n",
              "0  Simon Wests pg 13 thriller about a babysitter ...      7     1\n",
              "1  I was recently at a sleepover birthday party w...      9     1\n",
              "2  A hundred miles away from the scene of a grizz...      7     1\n",
              "3  If you have ever babysat in a house you didn't...      7     1\n",
              "4  People say that this film is a 'typical teen h...      8     1"
            ]
          },
          "metadata": {
            "tags": []
          },
          "execution_count": 13
        }
      ]
    },
    {
      "cell_type": "markdown",
      "metadata": {
        "id": "o5LqO3p6u-1d"
      },
      "source": [
        "## 3. Modeling\n",
        "\n",
        "Now we are ready to build a model, train, and test it."
      ]
    },
    {
      "cell_type": "code",
      "metadata": {
        "colab": {
          "base_uri": "https://localhost:8080/"
        },
        "id": "BDBNS4iNXuUL",
        "outputId": "1e904b37-7706-4073-f606-20ee271d2b71"
      },
      "source": [
        "!pip3 install -q tensorflow_gpu #==2.1.0"
      ],
      "execution_count": null,
      "outputs": [
        {
          "output_type": "stream",
          "text": [
            "\u001b[K     |████████████████████████████████| 320.4MB 56kB/s \n",
            "\u001b[?25h"
          ],
          "name": "stdout"
        }
      ]
    },
    {
      "cell_type": "code",
      "metadata": {
        "colab": {
          "base_uri": "https://localhost:8080/"
        },
        "id": "MAA46kq4X0C_",
        "outputId": "90e93631-741a-4392-9fb5-feb969aa7d3c"
      },
      "source": [
        "import tensorflow as tf\n",
        "print(tf.__version__)"
      ],
      "execution_count": null,
      "outputs": [
        {
          "output_type": "stream",
          "text": [
            "2.3.1\n"
          ],
          "name": "stdout"
        }
      ]
    },
    {
      "cell_type": "code",
      "metadata": {
        "colab": {
          "base_uri": "https://localhost:8080/"
        },
        "id": "sAYBZG2SX4nP",
        "outputId": "c6299e81-c3bf-4a49-f884-ad6631948fbe"
      },
      "source": [
        "!pip3 install -q ktrain"
      ],
      "execution_count": null,
      "outputs": [
        {
          "output_type": "stream",
          "text": [
            "\u001b[K     |████████████████████████████████| 25.3MB 30.8MB/s \n",
            "\u001b[K     |████████████████████████████████| 983kB 48.6MB/s \n",
            "\u001b[K     |████████████████████████████████| 266kB 53.8MB/s \n",
            "\u001b[K     |████████████████████████████████| 1.3MB 47.5MB/s \n",
            "\u001b[K     |████████████████████████████████| 1.1MB 54.4MB/s \n",
            "\u001b[K     |████████████████████████████████| 471kB 46.4MB/s \n",
            "\u001b[K     |████████████████████████████████| 2.9MB 52.8MB/s \n",
            "\u001b[K     |████████████████████████████████| 890kB 51.5MB/s \n",
            "\u001b[?25h  Building wheel for ktrain (setup.py) ... \u001b[?25l\u001b[?25hdone\n",
            "  Building wheel for langdetect (setup.py) ... \u001b[?25l\u001b[?25hdone\n",
            "  Building wheel for syntok (setup.py) ... \u001b[?25l\u001b[?25hdone\n",
            "  Building wheel for seqeval (setup.py) ... \u001b[?25l\u001b[?25hdone\n",
            "  Building wheel for keras-bert (setup.py) ... \u001b[?25l\u001b[?25hdone\n",
            "  Building wheel for sacremoses (setup.py) ... \u001b[?25l\u001b[?25hdone\n",
            "  Building wheel for keras-transformer (setup.py) ... \u001b[?25l\u001b[?25hdone\n",
            "  Building wheel for keras-pos-embd (setup.py) ... \u001b[?25l\u001b[?25hdone\n",
            "  Building wheel for keras-multi-head (setup.py) ... \u001b[?25l\u001b[?25hdone\n",
            "  Building wheel for keras-layer-normalization (setup.py) ... \u001b[?25l\u001b[?25hdone\n",
            "  Building wheel for keras-position-wise-feed-forward (setup.py) ... \u001b[?25l\u001b[?25hdone\n",
            "  Building wheel for keras-embed-sim (setup.py) ... \u001b[?25l\u001b[?25hdone\n",
            "  Building wheel for keras-self-attention (setup.py) ... \u001b[?25l\u001b[?25hdone\n",
            "\u001b[31mERROR: transformers 3.5.1 has requirement sentencepiece==0.1.91, but you'll have sentencepiece 0.1.94 which is incompatible.\u001b[0m\n"
          ],
          "name": "stdout"
        }
      ]
    },
    {
      "cell_type": "markdown",
      "metadata": {
        "id": "5BFcFbww9GmO"
      },
      "source": [
        "It is imperative to shuffle rows since we concatenated positive observations on top of negative ones."
      ]
    },
    {
      "cell_type": "code",
      "metadata": {
        "id": "rfnB04WQ_xoU"
      },
      "source": [
        "from sklearn.utils import shuffle\n",
        "\n",
        "# Shuffle rows\n",
        "df_train = shuffle(df_train)\n",
        "df_test = shuffle(df_test)"
      ],
      "execution_count": null,
      "outputs": []
    },
    {
      "cell_type": "markdown",
      "metadata": {
        "id": "0dA_uLnU9ps2"
      },
      "source": [
        "Models based on Transformers like XLNet consume lots of computational resources. Even using a GPU it would take a significant amount of time to train and validade the model. That is why we decided to reduce the number of rows.\n",
        "\n"
      ]
    },
    {
      "cell_type": "code",
      "metadata": {
        "id": "DaYAah0g_4Nl"
      },
      "source": [
        "# Reduce number of rows\n",
        "df_train = df_train[:12000]\n",
        "df_test = df_test[:12000]"
      ],
      "execution_count": null,
      "outputs": []
    },
    {
      "cell_type": "code",
      "metadata": {
        "id": "jyaoR6gJ4ysb"
      },
      "source": [
        "# Get Train and Test features and labels\n",
        "X_train = df_train.text; X_test = df_test.text; y_train = df_train.label; y_test = df_test.label\n",
        "\n",
        "# Transform from series into lists/arrays\n",
        "X_train = X_train.tolist()\n",
        "X_test = X_test.tolist()\n",
        "y_test = y_test.to_numpy()\n",
        "y_train = y_train.to_numpy()"
      ],
      "execution_count": null,
      "outputs": []
    },
    {
      "cell_type": "code",
      "metadata": {
        "colab": {
          "base_uri": "https://localhost:8080/"
        },
        "id": "V2N7Lx8dj-uL",
        "outputId": "59ce0476-a690-46ed-d959-decb2909cb29"
      },
      "source": [
        "# Check size of Train and Test subsets\n",
        "len(X_train), len(X_test)"
      ],
      "execution_count": null,
      "outputs": [
        {
          "output_type": "execute_result",
          "data": {
            "text/plain": [
              "(12000, 12000)"
            ]
          },
          "metadata": {
            "tags": []
          },
          "execution_count": 19
        }
      ]
    },
    {
      "cell_type": "markdown",
      "metadata": {
        "id": "8g2QjD2w-0uG"
      },
      "source": [
        "Now we are ready to build the model."
      ]
    },
    {
      "cell_type": "code",
      "metadata": {
        "colab": {
          "base_uri": "https://localhost:8080/",
          "height": 419,
          "referenced_widgets": [
            "37af494f831e46d183709bc76c229d36",
            "82eb219ddbb242898d5cd6232ffc3f35",
            "aabc8a747fe843c49588c4f675169c6c",
            "ac54dac7e1a340688ebd36e03688d06e",
            "16275139dbe54ed3869373d15ba5423d",
            "5b13cd8fc69d40c190e9fac2882d11cb",
            "a2e4f16d7ecf4741b8a6081d5441bbe1",
            "ec1fccdc13994bb68fd5aa18e513afd9",
            "c6375431175f4d50a53a520b6a0d8cc2",
            "d7cf5a5fdb084e2a90ccb67ffcb377c6",
            "5d3bbd1096b1426eaeb726be6481025e",
            "43bd7fabba0443599fd489ce9963bf58",
            "fd661fa1b0104a7eb8fbc64f7af69a29",
            "f333e604f8f340ed8401f022c3cfab0d",
            "c50465dd0d204c9cb484b498b990d659",
            "dd8947fe624148b4852b342bccfd520c",
            "684096d42d854ad69c4028f1e7488583",
            "e6e5334456ec441b8d166635aaa0c2d2",
            "a1dab70309fc460ea7aaab2493e0435c",
            "17b627e212354f9b99cdf546a5e02143",
            "cd74859b78e4464d8e9faef73b51ba42",
            "619a267cf23343c5bdba31f9683b549a",
            "a26ba2514fa2495792dde7fb986b0070",
            "90591cb95de143e1816346e362a3263d"
          ]
        },
        "id": "5phkVc7ZYnue",
        "outputId": "2e84ab75-dd92-4f88-9e05-ccbf30564f48"
      },
      "source": [
        "import ktrain\n",
        "from ktrain import text\n",
        "\n",
        "# Create Transformer model\n",
        "MODEL_NAME = 'xlnet-base-cased'\n",
        "t = text.Transformer(MODEL_NAME, maxlen=500, classes=['positive','negative'])\n",
        "trn = t.preprocess_train(X_train, y_train)\n",
        "val = t.preprocess_test(X_test, y_test)\n",
        "model = t.get_classifier()\n",
        "learner = ktrain.get_learner(model, train_data=trn, val_data=val, batch_size=6)"
      ],
      "execution_count": null,
      "outputs": [
        {
          "output_type": "stream",
          "text": [
            "/usr/local/lib/python3.6/dist-packages/ktrain/text/preprocessor.py:414: UserWarning: The class_names argument is replacing the classes argument. Please update your code.\n",
            "  warnings.warn('The class_names argument is replacing the classes argument. Please update your code.')\n"
          ],
          "name": "stderr"
        },
        {
          "output_type": "display_data",
          "data": {
            "application/vnd.jupyter.widget-view+json": {
              "model_id": "37af494f831e46d183709bc76c229d36",
              "version_minor": 0,
              "version_major": 2
            },
            "text/plain": [
              "HBox(children=(FloatProgress(value=0.0, description='Downloading', max=760.0, style=ProgressStyle(description_…"
            ]
          },
          "metadata": {
            "tags": []
          }
        },
        {
          "output_type": "stream",
          "text": [
            "\n",
            "preprocessing train...\n",
            "language: en\n",
            "train sequence lengths:\n",
            "\tmean : 235\n",
            "\t95percentile : 598\n",
            "\t99percentile : 894\n"
          ],
          "name": "stdout"
        },
        {
          "output_type": "display_data",
          "data": {
            "application/vnd.jupyter.widget-view+json": {
              "model_id": "c6375431175f4d50a53a520b6a0d8cc2",
              "version_minor": 0,
              "version_major": 2
            },
            "text/plain": [
              "HBox(children=(FloatProgress(value=0.0, description='Downloading', max=798011.0, style=ProgressStyle(descripti…"
            ]
          },
          "metadata": {
            "tags": []
          }
        },
        {
          "output_type": "stream",
          "text": [
            "\n"
          ],
          "name": "stdout"
        },
        {
          "output_type": "display_data",
          "data": {
            "text/html": [
              ""
            ],
            "text/plain": [
              "<IPython.core.display.HTML object>"
            ]
          },
          "metadata": {
            "tags": []
          }
        },
        {
          "output_type": "stream",
          "text": [
            "Is Multi-Label? False\n",
            "preprocessing test...\n",
            "language: en\n",
            "test sequence lengths:\n",
            "\tmean : 229\n",
            "\t95percentile : 577\n",
            "\t99percentile : 889\n"
          ],
          "name": "stdout"
        },
        {
          "output_type": "display_data",
          "data": {
            "text/html": [
              ""
            ],
            "text/plain": [
              "<IPython.core.display.HTML object>"
            ]
          },
          "metadata": {
            "tags": []
          }
        },
        {
          "output_type": "display_data",
          "data": {
            "application/vnd.jupyter.widget-view+json": {
              "model_id": "684096d42d854ad69c4028f1e7488583",
              "version_minor": 0,
              "version_major": 2
            },
            "text/plain": [
              "HBox(children=(FloatProgress(value=0.0, description='Downloading', max=565485600.0, style=ProgressStyle(descri…"
            ]
          },
          "metadata": {
            "tags": []
          }
        },
        {
          "output_type": "stream",
          "text": [
            "\n"
          ],
          "name": "stdout"
        }
      ]
    },
    {
      "cell_type": "markdown",
      "metadata": {
        "id": "3zxH_HqYAkwR"
      },
      "source": [
        "### 3.1 Model training\n",
        "\n",
        "Before training the model it is interesting to estimate a proper learning rate. This will save time on training and help optimization algorithm to converge.\n"
      ]
    },
    {
      "cell_type": "code",
      "metadata": {
        "id": "AkEfVRnkSeBv",
        "colab": {
          "base_uri": "https://localhost:8080/",
          "height": 436
        },
        "outputId": "69aeadad-0a2a-4edb-818b-8fab1921c753"
      },
      "source": [
        "# Estimate the Learning Rate\n",
        "learner.lr_find(show_plot=True, max_epochs=2)"
      ],
      "execution_count": null,
      "outputs": [
        {
          "output_type": "stream",
          "text": [
            "simulating training for different learning rates... this may take a few moments...\n",
            "Epoch 1/2\n",
            "2000/2000 [==============================] - 3299s 2s/step - loss: 0.4957 - accuracy: 0.7337\n",
            "Epoch 2/2\n",
            "2000/2000 [==============================] - 3273s 2s/step - loss: 4.9734 - accuracy: 0.4987\n",
            "\n",
            "\n",
            "done.\n",
            "Visually inspect loss plot and select learning rate associated with falling loss\n"
          ],
          "name": "stdout"
        },
        {
          "output_type": "display_data",
          "data": {
            "image/png": "[encoded data removed]",
            "text/plain": [
              "<Figure size 432x288 with 1 Axes>"
            ]
          },
          "metadata": {
            "tags": [],
            "needs_background": "light"
          }
        }
      ]
    },
    {
      "cell_type": "code",
      "metadata": {
        "colab": {
          "base_uri": "https://localhost:8080/"
        },
        "id": "IX5G3v4CBGO4",
        "outputId": "775b952f-b964-450a-90d5-d943e216dd1a"
      },
      "source": [
        "# Train the model\n",
        "learner.fit_onecycle(5e-5, 4)"
      ],
      "execution_count": null,
      "outputs": [
        {
          "output_type": "stream",
          "text": [
            "\n",
            "\n",
            "begin training using onecycle policy with max lr of 5e-05...\n",
            "Epoch 1/4\n",
            "2000/2000 [==============================] - 4570s 2s/step - loss: 0.2562 - accuracy: 0.9003 - val_loss: 0.2175 - val_accuracy: 0.9147\n",
            "Epoch 2/4\n",
            "2000/2000 [==============================] - 4569s 2s/step - loss: 0.1995 - accuracy: 0.9282 - val_loss: 0.3221 - val_accuracy: 0.8698\n",
            "Epoch 3/4\n",
            "2000/2000 [==============================] - 4574s 2s/step - loss: 0.1403 - accuracy: 0.9487 - val_loss: 0.1927 - val_accuracy: 0.9376\n",
            "Epoch 4/4\n",
            "2000/2000 [==============================] - 4575s 2s/step - loss: 0.0448 - accuracy: 0.9867 - val_loss: 0.2118 - val_accuracy: 0.9383\n"
          ],
          "name": "stdout"
        },
        {
          "output_type": "execute_result",
          "data": {
            "text/plain": [
              "<tensorflow.python.keras.callbacks.History at 0x7ff4d92d5be0>"
            ]
          },
          "metadata": {
            "tags": []
          },
          "execution_count": 21
        }
      ]
    },
    {
      "cell_type": "markdown",
      "metadata": {
        "id": "O02XaSPECEF1"
      },
      "source": [
        "### 3.2 Evaluate and Inspect the Model\n",
        "\n",
        "We can now evaluate the model on _Test_ subset."
      ]
    },
    {
      "cell_type": "code",
      "metadata": {
        "colab": {
          "background_save": true,
          "base_uri": "https://localhost:8080/"
        },
        "id": "a5xQApSBFwUI",
        "outputId": "2a8520b1-38ac-4aff-8a34-6a703baef294"
      },
      "source": [
        "learner.validate(class_names=t.get_classes())\n"
      ],
      "execution_count": null,
      "outputs": [
        {
          "output_type": "stream",
          "text": [
            "              precision    recall  f1-score   support\n",
            "\n",
            "    positive       0.94      0.94      0.94      6046\n",
            "    negative       0.93      0.94      0.94      5954\n",
            "\n",
            "    accuracy                           0.94     12000\n",
            "   macro avg       0.94      0.94      0.94     12000\n",
            "weighted avg       0.94      0.94      0.94     12000\n",
            "\n"
          ],
          "name": "stdout"
        },
        {
          "output_type": "execute_result",
          "data": {
            "text/plain": [
              "array([[5654,  392],\n",
              "       [ 349, 5605]])"
            ]
          },
          "metadata": {
            "tags": []
          },
          "execution_count": 0
        }
      ]
    },
    {
      "cell_type": "markdown",
      "metadata": {
        "id": "xYK5YTCqCRxR"
      },
      "source": [
        "As we can see the accuracy was quite good, i.e., 94%. Of course, there is room for improvement since the best score using this dataset is 99.2% (check [here](https://www.kaggle.com/c/word2vec-nlp-tutorial/leaderboard)).\n",
        "\n",
        "Let's inspect the wrongest prediction."
      ]
    },
    {
      "cell_type": "code",
      "metadata": {
        "id": "-3BgzJJHF1Pj",
        "colab": {
          "base_uri": "https://localhost:8080/"
        },
        "outputId": "5ba26da6-9df8-40ef-a092-11d8facd9117"
      },
      "source": [
        "# Check on the prediction with the highest loss\n",
        "learner.view_top_losses(n=1, preproc=t)"
      ],
      "execution_count": null,
      "outputs": [
        {
          "output_type": "stream",
          "text": [
            "----------\n",
            "id:4979 | loss:7.24 | true:negative | pred:positive)\n",
            "\n"
          ],
          "name": "stdout"
        }
      ]
    },
    {
      "cell_type": "code",
      "metadata": {
        "id": "VaZ1FaddF1iI",
        "colab": {
          "base_uri": "https://localhost:8080/"
        },
        "outputId": "4cc076a6-aca8-4cd7-adeb-26c0a9ad286a"
      },
      "source": [
        "print(X_test[4979])"
      ],
      "execution_count": null,
      "outputs": [
        {
          "output_type": "stream",
          "text": [
            "Basically an endearingly chintzy and moronic 1.50 version of the nifty early 80's subterranean creature feature favorite The Boogens this entertainingly schlocky cheapie centers on a nasty squirmy wriggling monster who makes an instant meal out of any unfortunate souls foolhardy enough to go poking around the notoriously off limits Gold Spike Mine. Your standard issue motley assortment of intrepid boneheads hectoring hard nosed mine boss cute but insipid blonde babe feisty lady geologist boozy inexplicably Aussie accented ! seasoned old mine hand charmless doofus hunky jolly guy and arguably the most annoying character of the uniformly irritating bunch a nerdy bespectacled aspiring writer dweeb who's prone to speaking in flowery melodramatic utterances trek into the dark uninviting cave in search of gold. Naturally these intensely insufferable imbeciles discover that the allegedly abandoned mine is the home of a deadly ugly multi tentacled beast who in time honored hoary B flick fashion proceeds to gruesomely bag the group one at a time. Directed co written co produced and co edited with dumbfounding maladroitness by Melanie Anne Phillips acted with dismaying flatness by a rank no name cast further marred by lethargic pacing a drably meandering narrative murky under lit eye straining cinematography a shivery redundantly thudding pseudo John Carpenter synthesizer score and a cruddy herky jerky stop motion animation wormoid thingie that's only quickly glimpsed at the very end of the movie this extremely clunky amateurish and hence quite delectably dreadful would be scarefest commits all the necessary bad film missteps to qualify as a real four star stinkeroonie.\n"
          ],
          "name": "stdout"
        }
      ]
    },
    {
      "cell_type": "markdown",
      "metadata": {
        "id": "Vv9SvgPNIUCg"
      },
      "source": [
        "Now let's save the trained model."
      ]
    },
    {
      "cell_type": "code",
      "metadata": {
        "id": "1k2YXOKWF1z4"
      },
      "source": [
        "predictor = ktrain.get_predictor(learner.model, preproc=t)"
      ],
      "execution_count": null,
      "outputs": []
    },
    {
      "cell_type": "code",
      "metadata": {
        "id": "nboEHMYGGAgK"
      },
      "source": [
        "predictor.save('./content/drive/data/xlnet_predictor-v1_0')"
      ],
      "execution_count": null,
      "outputs": []
    },
    {
      "cell_type": "markdown",
      "metadata": {
        "id": "IlMl0u9SJuNY"
      },
      "source": [
        "### 3.3 Predict on unlabed data\n",
        "\n",
        "The Stanford AI Lab data reposity has also unlabeled data for clustering tasks. Let's select a sample and predict its sentiment."
      ]
    },
    {
      "cell_type": "code",
      "metadata": {
        "colab": {
          "base_uri": "https://localhost:8080/",
          "height": 35
        },
        "id": "FMt70fD7cUXk",
        "outputId": "341ec845-6a1d-462d-b6ad-e6a425908539"
      },
      "source": [
        "# Predict on unlabeled review\n",
        "predictor.predict(\"This is a very strange film that was long thought to be forgotten. It s the story of two American Army buddies, William Boyd (aka Hopalong Cassidy) and Louis Wolheim, and their adventures as they manage to escape from a German prison camp during WWI. However, as this is a comedy, the duo manage to make the most round about and stupid escape accidentally boarding a train to Constantinople to be placed in a Turkish prisoner of war camp! On the way, they manage to escape once again and end up in quite the adventure--meeting sexy Mary Astor along the way. As far as the film goes, it was a rather funny script and despite being a silly plot, it worked rather well. The chemistry between Boyd and Wolheim worked and the film managed to be quite entertaining. Oddly, however, the film managed to beat out Harold Lloyd's film, SPEEDY, for an Oscar for Best Direction for a Comedy (a category no longer used)--as SPEEDY was a superior film in most ways (it's one of Lloyd's best films). Still, it's well worth a look especially if you love silent films. By the way, director Milestone and Louis Walheim would team up just a few years later for another WWI picture, the great ALL QUIET ON THE WESTERN FRONT, a film that is definitely NOT a comedy.\")"
      ],
      "execution_count": null,
      "outputs": [
        {
          "output_type": "execute_result",
          "data": {
            "application/vnd.google.colaboratory.intrinsic+json": {
              "type": "string"
            },
            "text/plain": [
              "'negative'"
            ]
          },
          "metadata": {
            "tags": []
          },
          "execution_count": 35
        }
      ]
    },
    {
      "cell_type": "code",
      "metadata": {
        "id": "6e6zLwQ5VgYf",
        "colab": {
          "base_uri": "https://localhost:8080/"
        },
        "outputId": "99a1fede-cf1a-4e19-fd76-17189239386c"
      },
      "source": [
        "predictor.get_classes()"
      ],
      "execution_count": null,
      "outputs": [
        {
          "output_type": "execute_result",
          "data": {
            "text/plain": [
              "['positive', 'negative']"
            ]
          },
          "metadata": {
            "tags": []
          },
          "execution_count": 28
        }
      ]
    },
    {
      "cell_type": "code",
      "metadata": {
        "id": "D6Z4ybkOBuy2",
        "colab": {
          "base_uri": "https://localhost:8080/"
        },
        "outputId": "02984e22-d3a3-4cfb-ca06-455b4fabaea5"
      },
      "source": [
        "# Predict probability scores for each category\n",
        "predictor.predict_proba(\"This is a very strange film that was long thought to be forgotten. It s the story of two American Army buddies, William Boyd (aka Hopalong Cassidy) and Louis Wolheim, and their adventures as they manage to escape from a German prison camp during WWI. However, as this is a comedy, the duo manage to make the most round about and stupid escape accidentally boarding a train to Constantinople to be placed in a Turkish prisoner of war camp! On the way, they manage to escape once again and end up in quite the adventure--meeting sexy Mary Astor along the way. As far as the film goes, it was a rather funny script and despite being a silly plot, it worked rather well. The chemistry between Boyd and Wolheim worked and the film managed to be quite entertaining. Oddly, however, the film managed to beat out Harold Lloyd's film, SPEEDY, for an Oscar for Best Direction for a Comedy (a category no longer used)--as SPEEDY was a superior film in most ways (it's one of Lloyd's best films). Still, it's well worth a look especially if you love silent films. By the way, director Milestone and Louis Walheim would team up just a few years later for another WWI picture, the great ALL QUIET ON THE WESTERN FRONT, a film that is definitely NOT a comedy.\")"
      ],
      "execution_count": null,
      "outputs": [
        {
          "output_type": "execute_result",
          "data": {
            "text/plain": [
              "array([0.00286736, 0.99713266], dtype=float32)"
            ]
          },
          "metadata": {
            "tags": []
          },
          "execution_count": 34
        }
      ]
    },
    {
      "cell_type": "markdown",
      "metadata": {
        "id": "3zz2dZenLMI2"
      },
      "source": [
        "Another lengthy text with some positive comments but also negative ones. Let's see what captured the model's attention to end up on a negative classification."
      ]
    },
    {
      "cell_type": "code",
      "metadata": {
        "id": "pGsKrQFqBvEX",
        "colab": {
          "base_uri": "https://localhost:8080/"
        },
        "outputId": "e25cd4a7-f9c4-416c-ae93-16b2b24dc4d0"
      },
      "source": [
        "!pip3 install -q git+https://github.com/amaiya/eli5@tfkeras_0_10_1"
      ],
      "execution_count": null,
      "outputs": [
        {
          "output_type": "stream",
          "text": [
            "  Building wheel for eli5 (setup.py) ... \u001b[?25l\u001b[?25hdone\n"
          ],
          "name": "stdout"
        }
      ]
    },
    {
      "cell_type": "code",
      "metadata": {
        "id": "0M8kYiZfY5F4"
      },
      "source": [
        "predictor.explain(\"This is a very strange film that was long thought to be forgotten. It s the story of two American Army buddies, William Boyd (aka Hopalong Cassidy) and Louis Wolheim, and their adventures as they manage to escape from a German prison camp during WWI. However, as this is a comedy, the duo manage to make the most round about and stupid escape accidentally boarding a train to Constantinople to be placed in a Turkish prisoner of war camp! On the way, they manage to escape once again and end up in quite the adventure--meeting sexy Mary Astor along the way. As far as the film goes, it was a rather funny script and despite being a silly plot, it worked rather well. The chemistry between Boyd and Wolheim worked and the film managed to be quite entertaining. Oddly, however, the film managed to beat out Harold Lloyd's film, SPEEDY, for an Oscar for Best Direction for a Comedy (a category no longer used)--as SPEEDY was a superior film in most ways (it's one of Lloyd's best films). Still, it's well worth a look especially if you love silent films. By the way, director Milestone and Louis Walheim would team up just a few years later for another WWI picture, the great ALL QUIET ON THE WESTERN FRONT, a film that is definitely NOT a comedy.\")"
      ],
      "execution_count": null,
      "outputs": []
    },
    {
      "cell_type": "markdown",
      "metadata": {
        "id": "wrDHrUpfwsUE"
      },
      "source": [
        "![Screenshot from 2020-12-13 17-30-00.png](data:image/png;base64,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)"
      ]
    },
    {
      "cell_type": "markdown",
      "metadata": {
        "id": "wHfAzaYXMRbV"
      },
      "source": [
        "As we can see, the model perceived positive and negative words but in an unbalanced manner. Examples of negative ones like \"not\", \"far\", \"forgotten\", and \"stupid\" seemed to influence its decision."
      ]
    },
    {
      "cell_type": "markdown",
      "metadata": {
        "id": "xNIi3Ez-NgxF"
      },
      "source": [
        "## 4. Data Augmentation\n",
        "\n",
        "Now let's compare the previous model with a new one. This time trained in an augmented dataset and check for accuracy. For this resort, we will use synonym replacement and expand the previous _Train_ subset by 50%."
      ]
    },
    {
      "cell_type": "code",
      "metadata": {
        "id": "cKsJYzBE2VbZ"
      },
      "source": [
        "!pip install textaugment"
      ],
      "execution_count": null,
      "outputs": []
    },
    {
      "cell_type": "code",
      "metadata": {
        "colab": {
          "base_uri": "https://localhost:8080/"
        },
        "id": "-Mgq8SQF2b41",
        "outputId": "64bfd0a8-fa45-4733-e9aa-630e00693780"
      },
      "source": [
        "from textaugment import EDA\n",
        "import nltk\n",
        "nltk.download(['stopwords','wordnet'])\n",
        "\n",
        "t = EDA(random_state=123)"
      ],
      "execution_count": null,
      "outputs": [
        {
          "output_type": "stream",
          "text": [
            "[nltk_data] Downloading package stopwords to /root/nltk_data...\n",
            "[nltk_data]   Unzipping corpora/stopwords.zip.\n",
            "[nltk_data] Downloading package wordnet to /root/nltk_data...\n",
            "[nltk_data]   Unzipping corpora/wordnet.zip.\n"
          ],
          "name": "stdout"
        }
      ]
    },
    {
      "cell_type": "markdown",
      "metadata": {
        "id": "4UD_we7rRrAK"
      },
      "source": [
        "Let's create a function to augment data and call it on _Train_ subset."
      ]
    },
    {
      "cell_type": "code",
      "metadata": {
        "id": "HOJEjv4P8g5N"
      },
      "source": [
        "import numpy as np\n",
        "\n",
        "# Define a function for data augmentation\n",
        "def eda(lis,arr,pct):\n",
        "  for i in range(0,int(len(lis)*pct)):\n",
        "    lis.append(t.synonym_replacement(lis[i])) # synonym replacement\n",
        "    arr = np.append(arr,arr[i])\n",
        "  return lis, arr"
      ],
      "execution_count": null,
      "outputs": []
    },
    {
      "cell_type": "code",
      "metadata": {
        "id": "YSZCGjLr6lKd"
      },
      "source": [
        "# Increase Train subset by 50% using EDA\n",
        "X_train, y_train = eda(X_train,y_train,0.5)"
      ],
      "execution_count": null,
      "outputs": []
    },
    {
      "cell_type": "code",
      "metadata": {
        "colab": {
          "base_uri": "https://localhost:8080/"
        },
        "id": "bP5xkc_YOUA0",
        "outputId": "55e1950a-e82c-4b49-f065-bcff17ee368d"
      },
      "source": [
        "# Check size of Train and Test subsets\n",
        "len(X_train), len(X_test)"
      ],
      "execution_count": null,
      "outputs": [
        {
          "output_type": "execute_result",
          "data": {
            "text/plain": [
              "(18000, 12000)"
            ]
          },
          "metadata": {
            "tags": []
          },
          "execution_count": 28
        }
      ]
    },
    {
      "cell_type": "markdown",
      "metadata": {
        "id": "13Pa9-3dR5QC"
      },
      "source": [
        "Again, let's shuffle rows."
      ]
    },
    {
      "cell_type": "code",
      "metadata": {
        "id": "YDMPMrBGOqNs"
      },
      "source": [
        "# Shuffle rows\n",
        "df_train = shuffle(df_train)\n",
        "df_test = shuffle(df_test)"
      ],
      "execution_count": null,
      "outputs": []
    },
    {
      "cell_type": "markdown",
      "metadata": {
        "id": "kxfHurmtSDGv"
      },
      "source": [
        "Time to build the model and train the new model."
      ]
    },
    {
      "cell_type": "code",
      "metadata": {
        "colab": {
          "base_uri": "https://localhost:8080/",
          "height": 419,
          "referenced_widgets": [
            "3ea4929f3c3a45cdb3ec7da249dd19a7",
            "7c23b234b9014fd89ef2a1793dd6a920",
            "0bfe6030c10149259501c638812efd4a",
            "3696ef2a56bb4c11863529aeee6e2f11",
            "00fbc866dc784c04847dbe055b66bf6f",
            "1da5acd85f3f4070b034eade954de463",
            "8f1a1d193a404dd786a3c8e4619d20a5",
            "bf7405c6623344e4b9a241133ce13cc1",
            "82c93fdecb774011895c3fb862b0a786",
            "d729bb33de6049d5b74a59b4cbfd0bbd",
            "238af0df4c11418ab48b083f4c10f68f",
            "e48ca53a31f14659b87c5fb796c308c5",
            "7df2fb2d7682452888217c81093b0dca",
            "739af079a9284fd4b6beea4cb9fa26d8",
            "bc82de3352f6451092b3a134044c5cca",
            "5ce7e4470e0e47bdba9f75dd9027b07d",
            "944819f9a2334733874ac95c66fc9ac8",
            "307a462e98764908ac5a323557de26b6",
            "45e800bc4dc0483fbb774d4676ee3246",
            "f114a81f718a49cbbf747c1e5f74dec8",
            "e6529c544b314077bdf9a45b94ec5c68",
            "cd378b2e4fca4774ab831ebba39ad3ad",
            "dcd2ae8838c7457a9cda1aa5dc54853b",
            "e892fc141e58488ca43c4fe70f7df270"
          ]
        },
        "id": "PCuGs-Sj3dvi",
        "outputId": "fce0dfc7-587f-489d-f0fe-97867fe73a8f"
      },
      "source": [
        "# Create new Transformer model\n",
        "MODEL_NAME = 'xlnet-base-cased'\n",
        "t = text.Transformer(MODEL_NAME, maxlen=500, classes=['positive','negative'])\n",
        "trn = t.preprocess_train(X_train, y_train)\n",
        "val = t.preprocess_test(X_test, y_test)\n",
        "model = t.get_classifier()\n",
        "learner = ktrain.get_learner(model, train_data=trn, val_data=val, batch_size=6)"
      ],
      "execution_count": null,
      "outputs": [
        {
          "output_type": "stream",
          "text": [
            "/usr/local/lib/python3.6/dist-packages/ktrain/text/preprocessor.py:414: UserWarning: The class_names argument is replacing the classes argument. Please update your code.\n",
            "  warnings.warn('The class_names argument is replacing the classes argument. Please update your code.')\n"
          ],
          "name": "stderr"
        },
        {
          "output_type": "display_data",
          "data": {
            "application/vnd.jupyter.widget-view+json": {
              "model_id": "3ea4929f3c3a45cdb3ec7da249dd19a7",
              "version_minor": 0,
              "version_major": 2
            },
            "text/plain": [
              "HBox(children=(FloatProgress(value=0.0, description='Downloading', max=760.0, style=ProgressStyle(description_…"
            ]
          },
          "metadata": {
            "tags": []
          }
        },
        {
          "output_type": "stream",
          "text": [
            "\n",
            "preprocessing train...\n",
            "language: en\n",
            "train sequence lengths:\n",
            "\tmean : 232\n",
            "\t95percentile : 596\n",
            "\t99percentile : 900\n"
          ],
          "name": "stdout"
        },
        {
          "output_type": "display_data",
          "data": {
            "application/vnd.jupyter.widget-view+json": {
              "model_id": "82c93fdecb774011895c3fb862b0a786",
              "version_minor": 0,
              "version_major": 2
            },
            "text/plain": [
              "HBox(children=(FloatProgress(value=0.0, description='Downloading', max=798011.0, style=ProgressStyle(descripti…"
            ]
          },
          "metadata": {
            "tags": []
          }
        },
        {
          "output_type": "stream",
          "text": [
            "\n"
          ],
          "name": "stdout"
        },
        {
          "output_type": "display_data",
          "data": {
            "text/html": [
              ""
            ],
            "text/plain": [
              "<IPython.core.display.HTML object>"
            ]
          },
          "metadata": {
            "tags": []
          }
        },
        {
          "output_type": "stream",
          "text": [
            "Is Multi-Label? False\n",
            "preprocessing test...\n",
            "language: en\n",
            "test sequence lengths:\n",
            "\tmean : 230\n",
            "\t95percentile : 588\n",
            "\t99percentile : 890\n"
          ],
          "name": "stdout"
        },
        {
          "output_type": "display_data",
          "data": {
            "text/html": [
              ""
            ],
            "text/plain": [
              "<IPython.core.display.HTML object>"
            ]
          },
          "metadata": {
            "tags": []
          }
        },
        {
          "output_type": "display_data",
          "data": {
            "application/vnd.jupyter.widget-view+json": {
              "model_id": "944819f9a2334733874ac95c66fc9ac8",
              "version_minor": 0,
              "version_major": 2
            },
            "text/plain": [
              "HBox(children=(FloatProgress(value=0.0, description='Downloading', max=565485600.0, style=ProgressStyle(descri…"
            ]
          },
          "metadata": {
            "tags": []
          }
        },
        {
          "output_type": "stream",
          "text": [
            "\n"
          ],
          "name": "stdout"
        }
      ]
    },
    {
      "cell_type": "code",
      "metadata": {
        "colab": {
          "base_uri": "https://localhost:8080/"
        },
        "id": "8IucbmwgyEDW",
        "outputId": "c11cb4d8-69d4-478a-bb84-3772ff1d75eb"
      },
      "source": [
        "# Train the new model\n",
        "learner.fit_onecycle(5e-5, 4)"
      ],
      "execution_count": null,
      "outputs": [
        {
          "output_type": "stream",
          "text": [
            "\n",
            "\n",
            "begin training using onecycle policy with max lr of 5e-05...\n",
            "Epoch 1/4\n",
            "3000/3000 [==============================] - 6204s 2s/step - loss: 0.2137 - accuracy: 0.9175 - val_loss: 0.2045 - val_accuracy: 0.9245\n",
            "Epoch 2/4\n",
            "3000/3000 [==============================] - 6207s 2s/step - loss: 0.1580 - accuracy: 0.9451 - val_loss: 0.1954 - val_accuracy: 0.9287\n",
            "Epoch 3/4\n",
            "3000/3000 [==============================] - 6208s 2s/step - loss: 0.1095 - accuracy: 0.9628 - val_loss: 0.2296 - val_accuracy: 0.9352\n",
            "Epoch 4/4\n",
            "3000/3000 [==============================] - 6210s 2s/step - loss: 0.0295 - accuracy: 0.9918 - val_loss: 0.2458 - val_accuracy: 0.9376\n"
          ],
          "name": "stdout"
        },
        {
          "output_type": "execute_result",
          "data": {
            "text/plain": [
              "<tensorflow.python.keras.callbacks.History at 0x7f96b8e76f98>"
            ]
          },
          "metadata": {
            "tags": []
          },
          "execution_count": 31
        }
      ]
    },
    {
      "cell_type": "markdown",
      "metadata": {
        "id": "kL1V6wKYKQHt"
      },
      "source": [
        "### 4.1 Evaluate the Model\n",
        "\n",
        "Now let's evaluate the new model on _Test_ subset."
      ]
    },
    {
      "cell_type": "code",
      "metadata": {
        "id": "RRYJMmWDKQH7",
        "colab": {
          "base_uri": "https://localhost:8080/"
        },
        "outputId": "aacbdc9d-ced1-4bba-fdd7-3c9314405879"
      },
      "source": [
        "learner.validate(class_names=t.get_classes())"
      ],
      "execution_count": null,
      "outputs": [
        {
          "output_type": "stream",
          "text": [
            "              precision    recall  f1-score   support\n",
            "\n",
            "    positive       0.94      0.94      0.94      6044\n",
            "    negative       0.94      0.94      0.94      5956\n",
            "\n",
            "    accuracy                           0.94     12000\n",
            "   macro avg       0.94      0.94      0.94     12000\n",
            "weighted avg       0.94      0.94      0.94     12000\n",
            "\n"
          ],
          "name": "stdout"
        },
        {
          "output_type": "execute_result",
          "data": {
            "text/plain": [
              "array([[5665,  379],\n",
              "       [ 370, 5586]])"
            ]
          },
          "metadata": {
            "tags": []
          },
          "execution_count": 32
        }
      ]
    },
    {
      "cell_type": "markdown",
      "metadata": {
        "id": "P6el7nBgklMw"
      },
      "source": [
        "As we can see from previous result, accuracy did not change. \n",
        "\n",
        "Let's inspect the wrongest prediction."
      ]
    },
    {
      "cell_type": "code",
      "metadata": {
        "id": "U-CPWu2SKWA3",
        "colab": {
          "base_uri": "https://localhost:8080/"
        },
        "outputId": "db145eed-7058-4b7d-e2bc-f6cd240e5daa"
      },
      "source": [
        "# Check on the prediction with the highest loss\n",
        "learner.view_top_losses(n=1, preproc=t)"
      ],
      "execution_count": null,
      "outputs": [
        {
          "output_type": "stream",
          "text": [
            "----------\n",
            "id:3722 | loss:7.99 | true:positive | pred:negative)\n",
            "\n"
          ],
          "name": "stdout"
        }
      ]
    },
    {
      "cell_type": "code",
      "metadata": {
        "id": "OyzUsNXTKWn9",
        "colab": {
          "base_uri": "https://localhost:8080/"
        },
        "outputId": "728b3d49-72c5-4d3c-8695-3ceefa49c0e4"
      },
      "source": [
        "print(X_test[3722])"
      ],
      "execution_count": null,
      "outputs": [
        {
          "output_type": "stream",
          "text": [
            "Nice movie and Nicholle Tom does a fantastic job playing the guy in the girl's body she really does it well. A sort of teen version of many other movies but well done. Well casted from Matt to Matt2 .\n"
          ],
          "name": "stdout"
        }
      ]
    },
    {
      "cell_type": "markdown",
      "metadata": {
        "id": "jyfaHgoPUDiM"
      },
      "source": [
        "\"_Nice movie and Nicholle Tom does a fantastic job playing the guy in the girl's body she really does it well. A sort of teen version of many other movies but well done. Well casted from Matt to Matt2._\"\n",
        "\n",
        "Model prediction in this example is quite odd because most of the words have a  positive sentiment. Let's investigate further."
      ]
    },
    {
      "cell_type": "code",
      "metadata": {
        "colab": {
          "base_uri": "https://localhost:8080/"
        },
        "id": "JYrP-ppgP4di",
        "outputId": "6f7ea6c3-0022-45d3-cb9a-b18a8dfa603c"
      },
      "source": [
        "predictor.get_classes()"
      ],
      "execution_count": null,
      "outputs": [
        {
          "output_type": "execute_result",
          "data": {
            "text/plain": [
              "['positive', 'negative']"
            ]
          },
          "metadata": {
            "tags": []
          },
          "execution_count": 37
        }
      ]
    },
    {
      "cell_type": "code",
      "metadata": {
        "colab": {
          "base_uri": "https://localhost:8080/"
        },
        "id": "LBAgSjiu9qhG",
        "outputId": "fc319495-afc2-4f56-cc8f-1716f4df7d68"
      },
      "source": [
        "# Predict probability scores for each category\n",
        "predictor.predict_proba(X_test[3722])"
      ],
      "execution_count": null,
      "outputs": [
        {
          "output_type": "execute_result",
          "data": {
            "text/plain": [
              "array([3.3855438e-04, 9.9966145e-01], dtype=float32)"
            ]
          },
          "metadata": {
            "tags": []
          },
          "execution_count": 54
        }
      ]
    },
    {
      "cell_type": "markdown",
      "metadata": {
        "id": "uUIxRnl3l-VM"
      },
      "source": [
        "As we see from the classes probabilities, the model computed the sentiment as _negative_ with a very high likelihood. Let's check which features contributed with that."
      ]
    },
    {
      "cell_type": "code",
      "metadata": {
        "id": "EMVqIsvp8ki_"
      },
      "source": [
        "predictor.explain(X_test[3722])"
      ],
      "execution_count": null,
      "outputs": []
    },
    {
      "cell_type": "markdown",
      "metadata": {
        "id": "6a8ZPNWEubpc"
      },
      "source": [
        "![Screenshot from 2020-12-13 17-15-32.png](data:image/png;base64,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)"
      ]
    },
    {
      "cell_type": "markdown",
      "metadata": {
        "id": "upPhFXJcXMb7"
      },
      "source": [
        "This is an interesting case since the top features are clearly mostly positive ones. However, the model classified the review as _negative_. We may be facing a weakness or bias in the model and might be investigated afterward."
      ]
    },
    {
      "cell_type": "markdown",
      "metadata": {
        "id": "pKn6ArRUXxf2"
      },
      "source": [
        "## 5. Conclusion\n",
        "\n",
        "In this mini-project, we dealt with a classification task to capture sentiment on movie text reviews. For such, It was used a known dataset made available by Standford AI Lab and composed of labeled _Train_ and _Test_ subsets with 25,000 observations each.\n",
        "\n",
        "After performing some wrangling with the data we reduced it by half to save computational resources during training and testing. After, we augmented such data with an EDA technique, namely synonym substitution.\n",
        "\n",
        "In end, the performance of the model did not improve (or worsened). The accuracy value itself was not too far from what are best results achieved with the same dataset and goal."
      ]
    }
  ]
}